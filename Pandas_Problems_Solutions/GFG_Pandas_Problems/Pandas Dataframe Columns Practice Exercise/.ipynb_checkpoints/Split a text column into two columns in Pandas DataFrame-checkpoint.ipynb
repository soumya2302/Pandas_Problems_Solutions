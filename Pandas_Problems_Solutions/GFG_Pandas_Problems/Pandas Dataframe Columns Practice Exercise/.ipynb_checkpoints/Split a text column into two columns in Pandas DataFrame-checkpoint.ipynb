{
 "cells": [
  {
   "cell_type": "code",
   "execution_count": 3,
   "id": "c602fe82-3f4b-435f-82b9-ce0651d0c2f3",
   "metadata": {},
   "outputs": [
    {
     "data": {
      "text/html": [
       "<div>\n",
       "<style scoped>\n",
       "    .dataframe tbody tr th:only-of-type {\n",
       "        vertical-align: middle;\n",
       "    }\n",
       "\n",
       "    .dataframe tbody tr th {\n",
       "        vertical-align: top;\n",
       "    }\n",
       "\n",
       "    .dataframe thead th {\n",
       "        text-align: right;\n",
       "    }\n",
       "</style>\n",
       "<table border=\"1\" class=\"dataframe\">\n",
       "  <thead>\n",
       "    <tr style=\"text-align: right;\">\n",
       "      <th></th>\n",
       "      <th>Name</th>\n",
       "      <th>Age</th>\n",
       "    </tr>\n",
       "  </thead>\n",
       "  <tbody>\n",
       "    <tr>\n",
       "      <th>0</th>\n",
       "      <td>John Larter</td>\n",
       "      <td>32</td>\n",
       "    </tr>\n",
       "    <tr>\n",
       "      <th>1</th>\n",
       "      <td>Robert Junior</td>\n",
       "      <td>34</td>\n",
       "    </tr>\n",
       "    <tr>\n",
       "      <th>2</th>\n",
       "      <td>Jonny Depp</td>\n",
       "      <td>36</td>\n",
       "    </tr>\n",
       "  </tbody>\n",
       "</table>\n",
       "</div>"
      ],
      "text/plain": [
       "            Name  Age\n",
       "0    John Larter   32\n",
       "1  Robert Junior   34\n",
       "2     Jonny Depp   36"
      ]
     },
     "execution_count": 3,
     "metadata": {},
     "output_type": "execute_result"
    }
   ],
   "source": [
    "import pandas as pd \n",
    "   \n",
    "# create a new data frame \n",
    "df = pd.DataFrame({'Name': ['John Larter', 'Robert Junior', 'Jonny Depp'], \n",
    "                   'Age':[32, 34, 36]}) \n",
    "df"
   ]
  },
  {
   "cell_type": "markdown",
   "id": "e786b527-6705-4ec4-9469-faa91c34e5ee",
   "metadata": {},
   "source": [
    "## Series.str.split()"
   ]
  },
  {
   "cell_type": "code",
   "execution_count": 7,
   "id": "7df51a0b-64fe-43f8-98db-293d2cab98a9",
   "metadata": {},
   "outputs": [
    {
     "data": {
      "text/html": [
       "<div>\n",
       "<style scoped>\n",
       "    .dataframe tbody tr th:only-of-type {\n",
       "        vertical-align: middle;\n",
       "    }\n",
       "\n",
       "    .dataframe tbody tr th {\n",
       "        vertical-align: top;\n",
       "    }\n",
       "\n",
       "    .dataframe thead th {\n",
       "        text-align: right;\n",
       "    }\n",
       "</style>\n",
       "<table border=\"1\" class=\"dataframe\">\n",
       "  <thead>\n",
       "    <tr style=\"text-align: right;\">\n",
       "      <th></th>\n",
       "      <th>0</th>\n",
       "      <th>1</th>\n",
       "    </tr>\n",
       "  </thead>\n",
       "  <tbody>\n",
       "    <tr>\n",
       "      <th>0</th>\n",
       "      <td>John</td>\n",
       "      <td>Larter</td>\n",
       "    </tr>\n",
       "    <tr>\n",
       "      <th>1</th>\n",
       "      <td>Robert</td>\n",
       "      <td>Junior</td>\n",
       "    </tr>\n",
       "    <tr>\n",
       "      <th>2</th>\n",
       "      <td>Jonny</td>\n",
       "      <td>Depp</td>\n",
       "    </tr>\n",
       "  </tbody>\n",
       "</table>\n",
       "</div>"
      ],
      "text/plain": [
       "        0       1\n",
       "0    John  Larter\n",
       "1  Robert  Junior\n",
       "2   Jonny    Depp"
      ]
     },
     "execution_count": 7,
     "metadata": {},
     "output_type": "execute_result"
    }
   ],
   "source": [
    "df.Name.str.split(expand=True)"
   ]
  },
  {
   "cell_type": "code",
   "execution_count": 8,
   "id": "8b047671-fac8-4db1-a492-38bb586d2208",
   "metadata": {},
   "outputs": [],
   "source": [
    "df[['First_Name','Last_Name']]=df.Name.str.split(expand=True)"
   ]
  },
  {
   "cell_type": "code",
   "execution_count": 9,
   "id": "b0e33a89-a391-40f9-8d3a-413bcb86feee",
   "metadata": {},
   "outputs": [
    {
     "data": {
      "text/html": [
       "<div>\n",
       "<style scoped>\n",
       "    .dataframe tbody tr th:only-of-type {\n",
       "        vertical-align: middle;\n",
       "    }\n",
       "\n",
       "    .dataframe tbody tr th {\n",
       "        vertical-align: top;\n",
       "    }\n",
       "\n",
       "    .dataframe thead th {\n",
       "        text-align: right;\n",
       "    }\n",
       "</style>\n",
       "<table border=\"1\" class=\"dataframe\">\n",
       "  <thead>\n",
       "    <tr style=\"text-align: right;\">\n",
       "      <th></th>\n",
       "      <th>Name</th>\n",
       "      <th>Age</th>\n",
       "      <th>First_Name</th>\n",
       "      <th>Last_Name</th>\n",
       "    </tr>\n",
       "  </thead>\n",
       "  <tbody>\n",
       "    <tr>\n",
       "      <th>0</th>\n",
       "      <td>John Larter</td>\n",
       "      <td>32</td>\n",
       "      <td>John</td>\n",
       "      <td>Larter</td>\n",
       "    </tr>\n",
       "    <tr>\n",
       "      <th>1</th>\n",
       "      <td>Robert Junior</td>\n",
       "      <td>34</td>\n",
       "      <td>Robert</td>\n",
       "      <td>Junior</td>\n",
       "    </tr>\n",
       "    <tr>\n",
       "      <th>2</th>\n",
       "      <td>Jonny Depp</td>\n",
       "      <td>36</td>\n",
       "      <td>Jonny</td>\n",
       "      <td>Depp</td>\n",
       "    </tr>\n",
       "  </tbody>\n",
       "</table>\n",
       "</div>"
      ],
      "text/plain": [
       "            Name  Age First_Name Last_Name\n",
       "0    John Larter   32       John    Larter\n",
       "1  Robert Junior   34     Robert    Junior\n",
       "2     Jonny Depp   36      Jonny      Depp"
      ]
     },
     "execution_count": 9,
     "metadata": {},
     "output_type": "execute_result"
    }
   ],
   "source": [
    "df"
   ]
  },
  {
   "cell_type": "markdown",
   "id": "e1cb8ba1-eb61-4c40-b6b0-386b7a488455",
   "metadata": {},
   "source": [
    "### Use underscore as delimiter to split the column into two columns."
   ]
  },
  {
   "cell_type": "code",
   "execution_count": 10,
   "id": "e362b200-cc30-42f4-90cd-f89e9c602202",
   "metadata": {},
   "outputs": [
    {
     "name": "stdout",
     "output_type": "stream",
     "text": [
      "Given Dataframe is :\n",
      "             Name  Age\n",
      "0    John_Larter   32\n",
      "1  Robert_Junior   34\n",
      "2     Jonny_Depp   36\n"
     ]
    }
   ],
   "source": [
    "df = pd.DataFrame({'Name': ['John_Larter', 'Robert_Junior', 'Jonny_Depp'], \n",
    "                    'Age':[32, 34, 36]}) \n",
    "   \n",
    "print(\"Given Dataframe is :\\n\",df)"
   ]
  },
  {
   "cell_type": "code",
   "execution_count": 11,
   "id": "70cd6174-b8d8-4840-8ef9-2cf4b387c57b",
   "metadata": {},
   "outputs": [],
   "source": [
    "df[['First_Name','Last_Name']]=df.Name.str.split('_',expand=True)"
   ]
  },
  {
   "cell_type": "code",
   "execution_count": 12,
   "id": "adb3d94f-23e3-4ed0-97c8-e98c189b4286",
   "metadata": {},
   "outputs": [
    {
     "data": {
      "text/html": [
       "<div>\n",
       "<style scoped>\n",
       "    .dataframe tbody tr th:only-of-type {\n",
       "        vertical-align: middle;\n",
       "    }\n",
       "\n",
       "    .dataframe tbody tr th {\n",
       "        vertical-align: top;\n",
       "    }\n",
       "\n",
       "    .dataframe thead th {\n",
       "        text-align: right;\n",
       "    }\n",
       "</style>\n",
       "<table border=\"1\" class=\"dataframe\">\n",
       "  <thead>\n",
       "    <tr style=\"text-align: right;\">\n",
       "      <th></th>\n",
       "      <th>Name</th>\n",
       "      <th>Age</th>\n",
       "      <th>First_Name</th>\n",
       "      <th>Last_Name</th>\n",
       "    </tr>\n",
       "  </thead>\n",
       "  <tbody>\n",
       "    <tr>\n",
       "      <th>0</th>\n",
       "      <td>John_Larter</td>\n",
       "      <td>32</td>\n",
       "      <td>John</td>\n",
       "      <td>Larter</td>\n",
       "    </tr>\n",
       "    <tr>\n",
       "      <th>1</th>\n",
       "      <td>Robert_Junior</td>\n",
       "      <td>34</td>\n",
       "      <td>Robert</td>\n",
       "      <td>Junior</td>\n",
       "    </tr>\n",
       "    <tr>\n",
       "      <th>2</th>\n",
       "      <td>Jonny_Depp</td>\n",
       "      <td>36</td>\n",
       "      <td>Jonny</td>\n",
       "      <td>Depp</td>\n",
       "    </tr>\n",
       "  </tbody>\n",
       "</table>\n",
       "</div>"
      ],
      "text/plain": [
       "            Name  Age First_Name Last_Name\n",
       "0    John_Larter   32       John    Larter\n",
       "1  Robert_Junior   34     Robert    Junior\n",
       "2     Jonny_Depp   36      Jonny      Depp"
      ]
     },
     "execution_count": 12,
     "metadata": {},
     "output_type": "execute_result"
    }
   ],
   "source": [
    "df"
   ]
  },
  {
   "cell_type": "markdown",
   "id": "f7a46e29-3782-41e8-b1da-e15a9171d070",
   "metadata": {},
   "source": [
    "### Use str.split(), tolist() function together."
   ]
  },
  {
   "cell_type": "code",
   "execution_count": 13,
   "id": "f75e6478-4f6a-42d0-84ff-6d493b8c3cb4",
   "metadata": {},
   "outputs": [
    {
     "name": "stdout",
     "output_type": "stream",
     "text": [
      "Given Dataframe is :\n",
      "             Name  Age\n",
      "0    John_Larter   32\n",
      "1  Robert_Junior   34\n",
      "2     Jonny_Depp   36\n"
     ]
    }
   ],
   "source": [
    "df = pd.DataFrame({'Name': ['John_Larter', 'Robert_Junior', 'Jonny_Depp'], \n",
    "                    'Age':[32, 34, 36]}) \n",
    "   \n",
    "print(\"Given Dataframe is :\\n\",df) "
   ]
  },
  {
   "cell_type": "code",
   "execution_count": 18,
   "id": "44447053-24a5-46cb-85cb-1a9e7a7e0626",
   "metadata": {},
   "outputs": [
    {
     "data": {
      "text/plain": [
       "[['John', 'Larter'], ['Robert', 'Junior'], ['Jonny', 'Depp']]"
      ]
     },
     "execution_count": 18,
     "metadata": {},
     "output_type": "execute_result"
    }
   ],
   "source": [
    "df.Name.str.split('_',n=1).tolist()"
   ]
  },
  {
   "cell_type": "markdown",
   "id": "ac2f5cbc-52b1-4780-8901-919e4560ea58",
   "metadata": {},
   "source": [
    "## n-->control no of times we want to split the iterable\n",
    "n=None,0,-1-->all split"
   ]
  },
  {
   "cell_type": "code",
   "execution_count": 19,
   "id": "76b187f2-ae18-4651-b322-8de1068eee9b",
   "metadata": {},
   "outputs": [],
   "source": [
    "df1=pd.DataFrame(df.Name.str.split('_',n=1).tolist(),columns=['First_Name','Last_Name'])"
   ]
  },
  {
   "cell_type": "code",
   "execution_count": 20,
   "id": "8d53b4cb-9192-4a0b-918f-6170da3945ad",
   "metadata": {},
   "outputs": [
    {
     "data": {
      "text/html": [
       "<div>\n",
       "<style scoped>\n",
       "    .dataframe tbody tr th:only-of-type {\n",
       "        vertical-align: middle;\n",
       "    }\n",
       "\n",
       "    .dataframe tbody tr th {\n",
       "        vertical-align: top;\n",
       "    }\n",
       "\n",
       "    .dataframe thead th {\n",
       "        text-align: right;\n",
       "    }\n",
       "</style>\n",
       "<table border=\"1\" class=\"dataframe\">\n",
       "  <thead>\n",
       "    <tr style=\"text-align: right;\">\n",
       "      <th></th>\n",
       "      <th>First_Name</th>\n",
       "      <th>Last_Name</th>\n",
       "    </tr>\n",
       "  </thead>\n",
       "  <tbody>\n",
       "    <tr>\n",
       "      <th>0</th>\n",
       "      <td>John</td>\n",
       "      <td>Larter</td>\n",
       "    </tr>\n",
       "    <tr>\n",
       "      <th>1</th>\n",
       "      <td>Robert</td>\n",
       "      <td>Junior</td>\n",
       "    </tr>\n",
       "    <tr>\n",
       "      <th>2</th>\n",
       "      <td>Jonny</td>\n",
       "      <td>Depp</td>\n",
       "    </tr>\n",
       "  </tbody>\n",
       "</table>\n",
       "</div>"
      ],
      "text/plain": [
       "  First_Name Last_Name\n",
       "0       John    Larter\n",
       "1     Robert    Junior\n",
       "2      Jonny      Depp"
      ]
     },
     "execution_count": 20,
     "metadata": {},
     "output_type": "execute_result"
    }
   ],
   "source": [
    "df1"
   ]
  },
  {
   "cell_type": "markdown",
   "id": "cf918200-6b6b-44b9-9f98-0bfccd5d237c",
   "metadata": {},
   "source": [
    "### Method #2 : Using apply() function. Split Name column into two different columns."
   ]
  },
  {
   "cell_type": "code",
   "execution_count": 21,
   "id": "e606c0ad-cdd9-4b1f-8b31-1aac08c129f9",
   "metadata": {},
   "outputs": [
    {
     "name": "stdout",
     "output_type": "stream",
     "text": [
      "Given Dataframe is :\n",
      "             Name  Age\n",
      "0    John_Larter   32\n",
      "1  Robert_Junior   34\n",
      "2     Jonny_Depp   36\n"
     ]
    }
   ],
   "source": [
    "df = pd.DataFrame({'Name': ['John_Larter', 'Robert_Junior', 'Jonny_Depp'], \n",
    "                    'Age':[32, 34, 36]}) \n",
    "   \n",
    "print(\"Given Dataframe is :\\n\",df) "
   ]
  },
  {
   "cell_type": "code",
   "execution_count": 29,
   "id": "80a8439d-f6f2-4e3e-bdec-cb3265bb1910",
   "metadata": {},
   "outputs": [
    {
     "data": {
      "text/html": [
       "<div>\n",
       "<style scoped>\n",
       "    .dataframe tbody tr th:only-of-type {\n",
       "        vertical-align: middle;\n",
       "    }\n",
       "\n",
       "    .dataframe tbody tr th {\n",
       "        vertical-align: top;\n",
       "    }\n",
       "\n",
       "    .dataframe thead th {\n",
       "        text-align: right;\n",
       "    }\n",
       "</style>\n",
       "<table border=\"1\" class=\"dataframe\">\n",
       "  <thead>\n",
       "    <tr style=\"text-align: right;\">\n",
       "      <th></th>\n",
       "      <th>0</th>\n",
       "      <th>1</th>\n",
       "    </tr>\n",
       "  </thead>\n",
       "  <tbody>\n",
       "    <tr>\n",
       "      <th>0</th>\n",
       "      <td>John</td>\n",
       "      <td>Larter</td>\n",
       "    </tr>\n",
       "    <tr>\n",
       "      <th>1</th>\n",
       "      <td>Robert</td>\n",
       "      <td>Junior</td>\n",
       "    </tr>\n",
       "    <tr>\n",
       "      <th>2</th>\n",
       "      <td>Jonny</td>\n",
       "      <td>Depp</td>\n",
       "    </tr>\n",
       "  </tbody>\n",
       "</table>\n",
       "</div>"
      ],
      "text/plain": [
       "        0       1\n",
       "0    John  Larter\n",
       "1  Robert  Junior\n",
       "2   Jonny    Depp"
      ]
     },
     "execution_count": 29,
     "metadata": {},
     "output_type": "execute_result"
    }
   ],
   "source": [
    "df.Name.apply(lambda x:pd.Series(x.split('_')))"
   ]
  },
  {
   "cell_type": "markdown",
   "id": "2e968bed-6229-4aa8-a186-e3c9c342803b",
   "metadata": {},
   "source": [
    "#### Split Name column into two different columns named as “First” and “Last” respectively and then add it to the existing Dataframe."
   ]
  },
  {
   "cell_type": "code",
   "execution_count": 30,
   "id": "57cb8687-529a-4c7d-889e-436bddac9670",
   "metadata": {},
   "outputs": [
    {
     "name": "stdout",
     "output_type": "stream",
     "text": [
      "Given Dataframe is :\n",
      "             Name  Age\n",
      "0    John_Larter   32\n",
      "1  Robert_Junior   34\n",
      "2     Jonny_Depp   36\n"
     ]
    }
   ],
   "source": [
    "df = pd.DataFrame({'Name': ['John_Larter', 'Robert_Junior', 'Jonny_Depp'], \n",
    "                    'Age':[32, 34, 36]}) \n",
    "   \n",
    "print(\"Given Dataframe is :\\n\",df) "
   ]
  },
  {
   "cell_type": "code",
   "execution_count": 35,
   "id": "6bc79e83-a33d-42b0-b3f2-55306529133a",
   "metadata": {},
   "outputs": [],
   "source": [
    "df[['First','Last']]=df.Name.apply(lambda x:pd.Series(x.split('_')))"
   ]
  },
  {
   "cell_type": "code",
   "execution_count": 36,
   "id": "0e3bfe63-95e5-4a3c-b34c-2ccafe757868",
   "metadata": {},
   "outputs": [
    {
     "data": {
      "text/html": [
       "<div>\n",
       "<style scoped>\n",
       "    .dataframe tbody tr th:only-of-type {\n",
       "        vertical-align: middle;\n",
       "    }\n",
       "\n",
       "    .dataframe tbody tr th {\n",
       "        vertical-align: top;\n",
       "    }\n",
       "\n",
       "    .dataframe thead th {\n",
       "        text-align: right;\n",
       "    }\n",
       "</style>\n",
       "<table border=\"1\" class=\"dataframe\">\n",
       "  <thead>\n",
       "    <tr style=\"text-align: right;\">\n",
       "      <th></th>\n",
       "      <th>Name</th>\n",
       "      <th>Age</th>\n",
       "      <th>First</th>\n",
       "      <th>Last</th>\n",
       "    </tr>\n",
       "  </thead>\n",
       "  <tbody>\n",
       "    <tr>\n",
       "      <th>0</th>\n",
       "      <td>John_Larter</td>\n",
       "      <td>32</td>\n",
       "      <td>John</td>\n",
       "      <td>Larter</td>\n",
       "    </tr>\n",
       "    <tr>\n",
       "      <th>1</th>\n",
       "      <td>Robert_Junior</td>\n",
       "      <td>34</td>\n",
       "      <td>Robert</td>\n",
       "      <td>Junior</td>\n",
       "    </tr>\n",
       "    <tr>\n",
       "      <th>2</th>\n",
       "      <td>Jonny_Depp</td>\n",
       "      <td>36</td>\n",
       "      <td>Jonny</td>\n",
       "      <td>Depp</td>\n",
       "    </tr>\n",
       "  </tbody>\n",
       "</table>\n",
       "</div>"
      ],
      "text/plain": [
       "            Name  Age   First    Last\n",
       "0    John_Larter   32    John  Larter\n",
       "1  Robert_Junior   34  Robert  Junior\n",
       "2     Jonny_Depp   36   Jonny    Depp"
      ]
     },
     "execution_count": 36,
     "metadata": {},
     "output_type": "execute_result"
    }
   ],
   "source": [
    "df"
   ]
  },
  {
   "cell_type": "code",
   "execution_count": null,
   "id": "cfc6f296-8dd8-43eb-9d9a-890699eab14a",
   "metadata": {},
   "outputs": [],
   "source": []
  }
 ],
 "metadata": {
  "kernelspec": {
   "display_name": "Python 3 (ipykernel)",
   "language": "python",
   "name": "python3"
  },
  "language_info": {
   "codemirror_mode": {
    "name": "ipython",
    "version": 3
   },
   "file_extension": ".py",
   "mimetype": "text/x-python",
   "name": "python",
   "nbconvert_exporter": "python",
   "pygments_lexer": "ipython3",
   "version": "3.12.1"
  }
 },
 "nbformat": 4,
 "nbformat_minor": 5
}
