{
 "cells": [
  {
   "cell_type": "code",
   "execution_count": 3,
   "id": "61f44e4b-3247-4871-a219-5a810600c8f7",
   "metadata": {},
   "outputs": [],
   "source": [
    "import pandas as pd"
   ]
  },
  {
   "cell_type": "code",
   "execution_count": 4,
   "id": "3afc9f7e-99a4-4be5-8011-ec5e37ef5a1b",
   "metadata": {},
   "outputs": [
    {
     "data": {
      "text/html": [
       "<div>\n",
       "<style scoped>\n",
       "    .dataframe tbody tr th:only-of-type {\n",
       "        vertical-align: middle;\n",
       "    }\n",
       "\n",
       "    .dataframe tbody tr th {\n",
       "        vertical-align: top;\n",
       "    }\n",
       "\n",
       "    .dataframe thead th {\n",
       "        text-align: right;\n",
       "    }\n",
       "</style>\n",
       "<table border=\"1\" class=\"dataframe\">\n",
       "  <thead>\n",
       "    <tr style=\"text-align: right;\">\n",
       "      <th></th>\n",
       "      <th>Name</th>\n",
       "      <th>Team</th>\n",
       "      <th>Number</th>\n",
       "      <th>Position</th>\n",
       "      <th>Age</th>\n",
       "      <th>Height</th>\n",
       "      <th>Weight</th>\n",
       "      <th>College</th>\n",
       "      <th>Salary</th>\n",
       "    </tr>\n",
       "  </thead>\n",
       "  <tbody>\n",
       "    <tr>\n",
       "      <th>0</th>\n",
       "      <td>Avery Bradley</td>\n",
       "      <td>Boston Celtics</td>\n",
       "      <td>0.0</td>\n",
       "      <td>PG</td>\n",
       "      <td>25.0</td>\n",
       "      <td>6-2</td>\n",
       "      <td>180.0</td>\n",
       "      <td>Texas</td>\n",
       "      <td>7730337.0</td>\n",
       "    </tr>\n",
       "    <tr>\n",
       "      <th>1</th>\n",
       "      <td>Jae Crowder</td>\n",
       "      <td>Boston Celtics</td>\n",
       "      <td>99.0</td>\n",
       "      <td>SF</td>\n",
       "      <td>25.0</td>\n",
       "      <td>6-6</td>\n",
       "      <td>235.0</td>\n",
       "      <td>Marquette</td>\n",
       "      <td>6796117.0</td>\n",
       "    </tr>\n",
       "    <tr>\n",
       "      <th>2</th>\n",
       "      <td>John Holland</td>\n",
       "      <td>Boston Celtics</td>\n",
       "      <td>30.0</td>\n",
       "      <td>SG</td>\n",
       "      <td>27.0</td>\n",
       "      <td>6-5</td>\n",
       "      <td>205.0</td>\n",
       "      <td>Boston University</td>\n",
       "      <td>NaN</td>\n",
       "    </tr>\n",
       "    <tr>\n",
       "      <th>3</th>\n",
       "      <td>R.J. Hunter</td>\n",
       "      <td>Boston Celtics</td>\n",
       "      <td>28.0</td>\n",
       "      <td>SG</td>\n",
       "      <td>22.0</td>\n",
       "      <td>6-5</td>\n",
       "      <td>185.0</td>\n",
       "      <td>Georgia State</td>\n",
       "      <td>1148640.0</td>\n",
       "    </tr>\n",
       "    <tr>\n",
       "      <th>4</th>\n",
       "      <td>Jonas Jerebko</td>\n",
       "      <td>Boston Celtics</td>\n",
       "      <td>8.0</td>\n",
       "      <td>PF</td>\n",
       "      <td>29.0</td>\n",
       "      <td>6-10</td>\n",
       "      <td>231.0</td>\n",
       "      <td>NaN</td>\n",
       "      <td>5000000.0</td>\n",
       "    </tr>\n",
       "  </tbody>\n",
       "</table>\n",
       "</div>"
      ],
      "text/plain": [
       "            Name            Team  Number Position   Age Height  Weight  \\\n",
       "0  Avery Bradley  Boston Celtics     0.0       PG  25.0    6-2   180.0   \n",
       "1    Jae Crowder  Boston Celtics    99.0       SF  25.0    6-6   235.0   \n",
       "2   John Holland  Boston Celtics    30.0       SG  27.0    6-5   205.0   \n",
       "3    R.J. Hunter  Boston Celtics    28.0       SG  22.0    6-5   185.0   \n",
       "4  Jonas Jerebko  Boston Celtics     8.0       PF  29.0   6-10   231.0   \n",
       "\n",
       "             College     Salary  \n",
       "0              Texas  7730337.0  \n",
       "1          Marquette  6796117.0  \n",
       "2  Boston University        NaN  \n",
       "3      Georgia State  1148640.0  \n",
       "4                NaN  5000000.0  "
      ]
     },
     "execution_count": 4,
     "metadata": {},
     "output_type": "execute_result"
    }
   ],
   "source": [
    "data=pd.read_csv('../DataSetGFG/nba.csv')\n",
    "data.head()"
   ]
  },
  {
   "cell_type": "code",
   "execution_count": null,
   "id": "0005397a-fcbb-46a8-bada-b24a32458d9b",
   "metadata": {},
   "outputs": [],
   "source": []
  },
  {
   "cell_type": "markdown",
   "id": "301b29b8-d37c-4de2-95cb-a1a16c0576e7",
   "metadata": {},
   "source": [
    "### Using columns attribute with dataframe object "
   ]
  },
  {
   "cell_type": "code",
   "execution_count": 7,
   "id": "6e63df79-c422-4065-ba30-71aa24b32987",
   "metadata": {},
   "outputs": [
    {
     "data": {
      "text/plain": [
       "Index(['Name', 'Team', 'Number', 'Position', 'Age', 'Height', 'Weight',\n",
       "       'College', 'Salary'],\n",
       "      dtype='object')"
      ]
     },
     "execution_count": 7,
     "metadata": {},
     "output_type": "execute_result"
    }
   ],
   "source": [
    "data.columns"
   ]
  },
  {
   "cell_type": "code",
   "execution_count": null,
   "id": "28f5d684-11ad-494a-8527-b206d2dd23d3",
   "metadata": {},
   "outputs": [],
   "source": []
  },
  {
   "cell_type": "markdown",
   "id": "1e2c6675-0a70-4d9d-9ec3-435c17f6f153",
   "metadata": {},
   "source": [
    "### Using keys() function"
   ]
  },
  {
   "cell_type": "code",
   "execution_count": 11,
   "id": "e24f5c2a-43f3-4b6a-adab-6cbb5230c16c",
   "metadata": {},
   "outputs": [
    {
     "data": {
      "text/plain": [
       "Index(['Name', 'Team', 'Number', 'Position', 'Age', 'Height', 'Weight',\n",
       "       'College', 'Salary'],\n",
       "      dtype='object')"
      ]
     },
     "execution_count": 11,
     "metadata": {},
     "output_type": "execute_result"
    }
   ],
   "source": [
    "data.keys()"
   ]
  },
  {
   "cell_type": "code",
   "execution_count": null,
   "id": "290eee61-b475-49a4-a863-1c63b140c6b9",
   "metadata": {},
   "outputs": [],
   "source": []
  },
  {
   "cell_type": "markdown",
   "id": "d4b1b3fa-fce3-4dbb-b42a-7aa9eac0c6b3",
   "metadata": {},
   "source": [
    "### column.values method returns an array of index. "
   ]
  },
  {
   "cell_type": "code",
   "execution_count": 8,
   "id": "c0989122-caef-40b8-ae21-8250540ffb1f",
   "metadata": {},
   "outputs": [
    {
     "data": {
      "text/plain": [
       "array(['Name', 'Team', 'Number', 'Position', 'Age', 'Height', 'Weight',\n",
       "       'College', 'Salary'], dtype=object)"
      ]
     },
     "execution_count": 8,
     "metadata": {},
     "output_type": "execute_result"
    }
   ],
   "source": [
    "data.columns.values"
   ]
  },
  {
   "cell_type": "code",
   "execution_count": null,
   "id": "714aaee8-4270-4629-9791-f08e55b8982e",
   "metadata": {},
   "outputs": [],
   "source": []
  },
  {
   "cell_type": "markdown",
   "id": "9de1e150-c0d8-4ec4-b151-95ccf0314ffb",
   "metadata": {},
   "source": [
    "### Using tolist() method with values with given the list of columns. "
   ]
  },
  {
   "cell_type": "code",
   "execution_count": 13,
   "id": "81207572-b660-480d-bd61-b72e0b48e254",
   "metadata": {},
   "outputs": [
    {
     "data": {
      "text/plain": [
       "['Name',\n",
       " 'Team',\n",
       " 'Number',\n",
       " 'Position',\n",
       " 'Age',\n",
       " 'Height',\n",
       " 'Weight',\n",
       " 'College',\n",
       " 'Salary']"
      ]
     },
     "execution_count": 13,
     "metadata": {},
     "output_type": "execute_result"
    }
   ],
   "source": [
    "data.columns.values.tolist()"
   ]
  },
  {
   "cell_type": "markdown",
   "id": "dce8964e-3094-47d0-8ef9-8fb5a2fb4253",
   "metadata": {},
   "source": [
    "### Simply iterating over columns "
   ]
  },
  {
   "cell_type": "code",
   "execution_count": 9,
   "id": "5b66653f-d9ec-4c6d-9280-1e52ccc3e9b9",
   "metadata": {},
   "outputs": [
    {
     "data": {
      "text/plain": [
       "['Name',\n",
       " 'Team',\n",
       " 'Number',\n",
       " 'Position',\n",
       " 'Age',\n",
       " 'Height',\n",
       " 'Weight',\n",
       " 'College',\n",
       " 'Salary']"
      ]
     },
     "execution_count": 9,
     "metadata": {},
     "output_type": "execute_result"
    }
   ],
   "source": [
    "li=[]\n",
    "for i in data.columns.values:\n",
    "    li.append(i)\n",
    "li        "
   ]
  },
  {
   "cell_type": "code",
   "execution_count": 10,
   "id": "2e4cc4b2-8923-43b1-964c-7fdbe3b9f5c5",
   "metadata": {},
   "outputs": [
    {
     "data": {
      "text/plain": [
       "['Name',\n",
       " 'Team',\n",
       " 'Number',\n",
       " 'Position',\n",
       " 'Age',\n",
       " 'Height',\n",
       " 'Weight',\n",
       " 'College',\n",
       " 'Salary']"
      ]
     },
     "execution_count": 10,
     "metadata": {},
     "output_type": "execute_result"
    }
   ],
   "source": [
    "li=[]\n",
    "for i in data.columns:\n",
    "    li.append(i)\n",
    "li"
   ]
  },
  {
   "cell_type": "markdown",
   "id": "eeac1d8b-be75-402d-917a-79916af8857b",
   "metadata": {},
   "source": []
  },
  {
   "cell_type": "markdown",
   "id": "47132990-0140-4276-afb7-e99a7bfa6286",
   "metadata": {},
   "source": [
    "### Using sorted() method : sorted() method will return the list of columns sorted in alphabetical order. "
   ]
  },
  {
   "cell_type": "code",
   "execution_count": 14,
   "id": "2a0de128-62fc-4e01-97d6-2001a81bb992",
   "metadata": {},
   "outputs": [
    {
     "data": {
      "text/plain": [
       "['Age',\n",
       " 'College',\n",
       " 'Height',\n",
       " 'Name',\n",
       " 'Number',\n",
       " 'Position',\n",
       " 'Salary',\n",
       " 'Team',\n",
       " 'Weight']"
      ]
     },
     "execution_count": 14,
     "metadata": {},
     "output_type": "execute_result"
    }
   ],
   "source": [
    "sorted(data)"
   ]
  },
  {
   "cell_type": "code",
   "execution_count": 15,
   "id": "7722f61e-7b91-4b4f-9357-6f9680f80c56",
   "metadata": {},
   "outputs": [
    {
     "data": {
      "text/plain": [
       "['Weight',\n",
       " 'Team',\n",
       " 'Salary',\n",
       " 'Position',\n",
       " 'Number',\n",
       " 'Name',\n",
       " 'Height',\n",
       " 'College',\n",
       " 'Age']"
      ]
     },
     "execution_count": 15,
     "metadata": {},
     "output_type": "execute_result"
    }
   ],
   "source": [
    "sorted(data,reverse=True)"
   ]
  },
  {
   "cell_type": "code",
   "execution_count": null,
   "id": "27954d76-cb8e-4f2e-abfc-d92da374a492",
   "metadata": {},
   "outputs": [],
   "source": []
  }
 ],
 "metadata": {
  "kernelspec": {
   "display_name": "Python 3 (ipykernel)",
   "language": "python",
   "name": "python3"
  },
  "language_info": {
   "codemirror_mode": {
    "name": "ipython",
    "version": 3
   },
   "file_extension": ".py",
   "mimetype": "text/x-python",
   "name": "python",
   "nbconvert_exporter": "python",
   "pygments_lexer": "ipython3",
   "version": "3.12.1"
  }
 },
 "nbformat": 4,
 "nbformat_minor": 5
}
