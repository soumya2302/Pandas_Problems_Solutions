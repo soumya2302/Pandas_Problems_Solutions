{
 "cells": [
  {
   "cell_type": "code",
   "execution_count": 2,
   "id": "6ef2d028-490f-4934-a32d-32cafd8e5178",
   "metadata": {},
   "outputs": [],
   "source": [
    "import pandas as pd"
   ]
  },
  {
   "cell_type": "code",
   "execution_count": 3,
   "id": "d688f9d2-c7b0-479c-bf59-501ecdd5a2d6",
   "metadata": {},
   "outputs": [
    {
     "data": {
      "text/html": [
       "<div>\n",
       "<style scoped>\n",
       "    .dataframe tbody tr th:only-of-type {\n",
       "        vertical-align: middle;\n",
       "    }\n",
       "\n",
       "    .dataframe tbody tr th {\n",
       "        vertical-align: top;\n",
       "    }\n",
       "\n",
       "    .dataframe thead th {\n",
       "        text-align: right;\n",
       "    }\n",
       "</style>\n",
       "<table border=\"1\" class=\"dataframe\">\n",
       "  <thead>\n",
       "    <tr style=\"text-align: right;\">\n",
       "      <th></th>\n",
       "      <th>Date</th>\n",
       "      <th>Event</th>\n",
       "      <th>Cost</th>\n",
       "    </tr>\n",
       "  </thead>\n",
       "  <tbody>\n",
       "    <tr>\n",
       "      <th>0</th>\n",
       "      <td>10/2/2011</td>\n",
       "      <td>Music</td>\n",
       "      <td>10000</td>\n",
       "    </tr>\n",
       "    <tr>\n",
       "      <th>1</th>\n",
       "      <td>11/2/2011</td>\n",
       "      <td>Poetry</td>\n",
       "      <td>5000</td>\n",
       "    </tr>\n",
       "    <tr>\n",
       "      <th>2</th>\n",
       "      <td>12/2/2011</td>\n",
       "      <td>Theatre</td>\n",
       "      <td>15000</td>\n",
       "    </tr>\n",
       "    <tr>\n",
       "      <th>3</th>\n",
       "      <td>13/2/2011</td>\n",
       "      <td>Comedy</td>\n",
       "      <td>2000</td>\n",
       "    </tr>\n",
       "  </tbody>\n",
       "</table>\n",
       "</div>"
      ],
      "text/plain": [
       "        Date    Event   Cost\n",
       "0  10/2/2011    Music  10000\n",
       "1  11/2/2011   Poetry   5000\n",
       "2  12/2/2011  Theatre  15000\n",
       "3  13/2/2011   Comedy   2000"
      ]
     },
     "execution_count": 3,
     "metadata": {},
     "output_type": "execute_result"
    }
   ],
   "source": [
    "df = pd.DataFrame({'Date':['10/2/2011', '11/2/2011', '12/2/2011', '13/2/2011'],\n",
    "                    'Event':['Music', 'Poetry', 'Theatre', 'Comedy'],\n",
    "                    'Cost':[10000, 5000, 15000, 2000]})\n",
    "df"
   ]
  },
  {
   "cell_type": "markdown",
   "id": "97fd1ae2-de55-4d90-bdfc-771fdd589671",
   "metadata": {},
   "source": [
    "#### Now we will create a new column called ‘Discounted_Price’ after applying a 10% discount on the existing ‘Cost’ column."
   ]
  },
  {
   "cell_type": "markdown",
   "id": "4a4dd51c-0d82-4dee-a156-a4def8f11d8b",
   "metadata": {},
   "source": [
    "## map()"
   ]
  },
  {
   "cell_type": "code",
   "execution_count": 6,
   "id": "aa1ad4dc-9b1f-4d1e-ab63-2eb62947937c",
   "metadata": {},
   "outputs": [],
   "source": [
    "df['Discounted_Price']=df['Cost'].map(lambda x:x-x*0.1)"
   ]
  },
  {
   "cell_type": "code",
   "execution_count": 7,
   "id": "e796b694-98bb-4581-bcd9-3fa6a440e104",
   "metadata": {},
   "outputs": [
    {
     "data": {
      "text/html": [
       "<div>\n",
       "<style scoped>\n",
       "    .dataframe tbody tr th:only-of-type {\n",
       "        vertical-align: middle;\n",
       "    }\n",
       "\n",
       "    .dataframe tbody tr th {\n",
       "        vertical-align: top;\n",
       "    }\n",
       "\n",
       "    .dataframe thead th {\n",
       "        text-align: right;\n",
       "    }\n",
       "</style>\n",
       "<table border=\"1\" class=\"dataframe\">\n",
       "  <thead>\n",
       "    <tr style=\"text-align: right;\">\n",
       "      <th></th>\n",
       "      <th>Date</th>\n",
       "      <th>Event</th>\n",
       "      <th>Cost</th>\n",
       "      <th>Discounted_Price</th>\n",
       "    </tr>\n",
       "  </thead>\n",
       "  <tbody>\n",
       "    <tr>\n",
       "      <th>0</th>\n",
       "      <td>10/2/2011</td>\n",
       "      <td>Music</td>\n",
       "      <td>10000</td>\n",
       "      <td>9000.0</td>\n",
       "    </tr>\n",
       "    <tr>\n",
       "      <th>1</th>\n",
       "      <td>11/2/2011</td>\n",
       "      <td>Poetry</td>\n",
       "      <td>5000</td>\n",
       "      <td>4500.0</td>\n",
       "    </tr>\n",
       "    <tr>\n",
       "      <th>2</th>\n",
       "      <td>12/2/2011</td>\n",
       "      <td>Theatre</td>\n",
       "      <td>15000</td>\n",
       "      <td>13500.0</td>\n",
       "    </tr>\n",
       "    <tr>\n",
       "      <th>3</th>\n",
       "      <td>13/2/2011</td>\n",
       "      <td>Comedy</td>\n",
       "      <td>2000</td>\n",
       "      <td>1800.0</td>\n",
       "    </tr>\n",
       "  </tbody>\n",
       "</table>\n",
       "</div>"
      ],
      "text/plain": [
       "        Date    Event   Cost  Discounted_Price\n",
       "0  10/2/2011    Music  10000            9000.0\n",
       "1  11/2/2011   Poetry   5000            4500.0\n",
       "2  12/2/2011  Theatre  15000           13500.0\n",
       "3  13/2/2011   Comedy   2000            1800.0"
      ]
     },
     "execution_count": 7,
     "metadata": {},
     "output_type": "execute_result"
    }
   ],
   "source": [
    "df"
   ]
  },
  {
   "cell_type": "markdown",
   "id": "92ede8d5-83c8-408b-86cc-3bd25f0b879c",
   "metadata": {},
   "source": [
    "## apply()"
   ]
  },
  {
   "cell_type": "code",
   "execution_count": 8,
   "id": "60d5b260-9a99-4511-b0f2-5e35bf7b7d1d",
   "metadata": {},
   "outputs": [
    {
     "data": {
      "text/html": [
       "<div>\n",
       "<style scoped>\n",
       "    .dataframe tbody tr th:only-of-type {\n",
       "        vertical-align: middle;\n",
       "    }\n",
       "\n",
       "    .dataframe tbody tr th {\n",
       "        vertical-align: top;\n",
       "    }\n",
       "\n",
       "    .dataframe thead th {\n",
       "        text-align: right;\n",
       "    }\n",
       "</style>\n",
       "<table border=\"1\" class=\"dataframe\">\n",
       "  <thead>\n",
       "    <tr style=\"text-align: right;\">\n",
       "      <th></th>\n",
       "      <th>Date</th>\n",
       "      <th>Event</th>\n",
       "      <th>Cost</th>\n",
       "    </tr>\n",
       "  </thead>\n",
       "  <tbody>\n",
       "    <tr>\n",
       "      <th>0</th>\n",
       "      <td>10/2/2011</td>\n",
       "      <td>Music</td>\n",
       "      <td>10000</td>\n",
       "    </tr>\n",
       "    <tr>\n",
       "      <th>1</th>\n",
       "      <td>11/2/2011</td>\n",
       "      <td>Poetry</td>\n",
       "      <td>5000</td>\n",
       "    </tr>\n",
       "    <tr>\n",
       "      <th>2</th>\n",
       "      <td>12/2/2011</td>\n",
       "      <td>Theatre</td>\n",
       "      <td>15000</td>\n",
       "    </tr>\n",
       "    <tr>\n",
       "      <th>3</th>\n",
       "      <td>13/2/2011</td>\n",
       "      <td>Comedy</td>\n",
       "      <td>2000</td>\n",
       "    </tr>\n",
       "  </tbody>\n",
       "</table>\n",
       "</div>"
      ],
      "text/plain": [
       "        Date    Event   Cost\n",
       "0  10/2/2011    Music  10000\n",
       "1  11/2/2011   Poetry   5000\n",
       "2  12/2/2011  Theatre  15000\n",
       "3  13/2/2011   Comedy   2000"
      ]
     },
     "execution_count": 8,
     "metadata": {},
     "output_type": "execute_result"
    }
   ],
   "source": [
    "df = pd.DataFrame({'Date':['10/2/2011', '11/2/2011', '12/2/2011', '13/2/2011'],\n",
    "                    'Event':['Music', 'Poetry', 'Theatre', 'Comedy'],\n",
    "                    'Cost':[10000, 5000, 15000, 2000]})\n",
    "df"
   ]
  },
  {
   "cell_type": "code",
   "execution_count": 13,
   "id": "196414be-3d0a-4711-a14c-006355c8d152",
   "metadata": {},
   "outputs": [],
   "source": [
    "df['Discounted_Price']=df.apply(lambda x:x['Cost']-x['Cost']*0.1,axis=1)"
   ]
  },
  {
   "cell_type": "code",
   "execution_count": 14,
   "id": "df6582e9-1164-4797-8f73-7cc4ab47239f",
   "metadata": {},
   "outputs": [
    {
     "data": {
      "text/html": [
       "<div>\n",
       "<style scoped>\n",
       "    .dataframe tbody tr th:only-of-type {\n",
       "        vertical-align: middle;\n",
       "    }\n",
       "\n",
       "    .dataframe tbody tr th {\n",
       "        vertical-align: top;\n",
       "    }\n",
       "\n",
       "    .dataframe thead th {\n",
       "        text-align: right;\n",
       "    }\n",
       "</style>\n",
       "<table border=\"1\" class=\"dataframe\">\n",
       "  <thead>\n",
       "    <tr style=\"text-align: right;\">\n",
       "      <th></th>\n",
       "      <th>Date</th>\n",
       "      <th>Event</th>\n",
       "      <th>Cost</th>\n",
       "      <th>Discounted_Price</th>\n",
       "    </tr>\n",
       "  </thead>\n",
       "  <tbody>\n",
       "    <tr>\n",
       "      <th>0</th>\n",
       "      <td>10/2/2011</td>\n",
       "      <td>Music</td>\n",
       "      <td>10000</td>\n",
       "      <td>9000.0</td>\n",
       "    </tr>\n",
       "    <tr>\n",
       "      <th>1</th>\n",
       "      <td>11/2/2011</td>\n",
       "      <td>Poetry</td>\n",
       "      <td>5000</td>\n",
       "      <td>4500.0</td>\n",
       "    </tr>\n",
       "    <tr>\n",
       "      <th>2</th>\n",
       "      <td>12/2/2011</td>\n",
       "      <td>Theatre</td>\n",
       "      <td>15000</td>\n",
       "      <td>13500.0</td>\n",
       "    </tr>\n",
       "    <tr>\n",
       "      <th>3</th>\n",
       "      <td>13/2/2011</td>\n",
       "      <td>Comedy</td>\n",
       "      <td>2000</td>\n",
       "      <td>1800.0</td>\n",
       "    </tr>\n",
       "  </tbody>\n",
       "</table>\n",
       "</div>"
      ],
      "text/plain": [
       "        Date    Event   Cost  Discounted_Price\n",
       "0  10/2/2011    Music  10000            9000.0\n",
       "1  11/2/2011   Poetry   5000            4500.0\n",
       "2  12/2/2011  Theatre  15000           13500.0\n",
       "3  13/2/2011   Comedy   2000            1800.0"
      ]
     },
     "execution_count": 14,
     "metadata": {},
     "output_type": "execute_result"
    }
   ],
   "source": [
    "df"
   ]
  },
  {
   "cell_type": "markdown",
   "id": "d3962ee2-c1d0-4101-a04f-49f970fd623f",
   "metadata": {},
   "source": [
    "### We can achieve the same result by directly performing the required operation on the desired column element-wise. "
   ]
  },
  {
   "cell_type": "code",
   "execution_count": 17,
   "id": "1121effb-e77f-45cd-9285-79753d798f7c",
   "metadata": {},
   "outputs": [],
   "source": [
    "df['Discounted_Price']=df['Cost']+df['Cost']*0.1"
   ]
  },
  {
   "cell_type": "code",
   "execution_count": 18,
   "id": "de6706df-ca66-422b-9546-2c731e37f2dc",
   "metadata": {},
   "outputs": [
    {
     "data": {
      "text/html": [
       "<div>\n",
       "<style scoped>\n",
       "    .dataframe tbody tr th:only-of-type {\n",
       "        vertical-align: middle;\n",
       "    }\n",
       "\n",
       "    .dataframe tbody tr th {\n",
       "        vertical-align: top;\n",
       "    }\n",
       "\n",
       "    .dataframe thead th {\n",
       "        text-align: right;\n",
       "    }\n",
       "</style>\n",
       "<table border=\"1\" class=\"dataframe\">\n",
       "  <thead>\n",
       "    <tr style=\"text-align: right;\">\n",
       "      <th></th>\n",
       "      <th>Date</th>\n",
       "      <th>Event</th>\n",
       "      <th>Cost</th>\n",
       "      <th>Discounted_Price</th>\n",
       "    </tr>\n",
       "  </thead>\n",
       "  <tbody>\n",
       "    <tr>\n",
       "      <th>0</th>\n",
       "      <td>10/2/2011</td>\n",
       "      <td>Music</td>\n",
       "      <td>10000</td>\n",
       "      <td>11000.0</td>\n",
       "    </tr>\n",
       "    <tr>\n",
       "      <th>1</th>\n",
       "      <td>11/2/2011</td>\n",
       "      <td>Poetry</td>\n",
       "      <td>5000</td>\n",
       "      <td>5500.0</td>\n",
       "    </tr>\n",
       "    <tr>\n",
       "      <th>2</th>\n",
       "      <td>12/2/2011</td>\n",
       "      <td>Theatre</td>\n",
       "      <td>15000</td>\n",
       "      <td>16500.0</td>\n",
       "    </tr>\n",
       "    <tr>\n",
       "      <th>3</th>\n",
       "      <td>13/2/2011</td>\n",
       "      <td>Comedy</td>\n",
       "      <td>2000</td>\n",
       "      <td>2200.0</td>\n",
       "    </tr>\n",
       "  </tbody>\n",
       "</table>\n",
       "</div>"
      ],
      "text/plain": [
       "        Date    Event   Cost  Discounted_Price\n",
       "0  10/2/2011    Music  10000           11000.0\n",
       "1  11/2/2011   Poetry   5000            5500.0\n",
       "2  12/2/2011  Theatre  15000           16500.0\n",
       "3  13/2/2011   Comedy   2000            2200.0"
      ]
     },
     "execution_count": 18,
     "metadata": {},
     "output_type": "execute_result"
    }
   ],
   "source": [
    "df"
   ]
  },
  {
   "cell_type": "code",
   "execution_count": null,
   "id": "2fd7700e-4eb0-4231-8bf2-365707776f34",
   "metadata": {},
   "outputs": [],
   "source": []
  }
 ],
 "metadata": {
  "kernelspec": {
   "display_name": "Python 3 (ipykernel)",
   "language": "python",
   "name": "python3"
  },
  "language_info": {
   "codemirror_mode": {
    "name": "ipython",
    "version": 3
   },
   "file_extension": ".py",
   "mimetype": "text/x-python",
   "name": "python",
   "nbconvert_exporter": "python",
   "pygments_lexer": "ipython3",
   "version": "3.12.1"
  }
 },
 "nbformat": 4,
 "nbformat_minor": 5
}
