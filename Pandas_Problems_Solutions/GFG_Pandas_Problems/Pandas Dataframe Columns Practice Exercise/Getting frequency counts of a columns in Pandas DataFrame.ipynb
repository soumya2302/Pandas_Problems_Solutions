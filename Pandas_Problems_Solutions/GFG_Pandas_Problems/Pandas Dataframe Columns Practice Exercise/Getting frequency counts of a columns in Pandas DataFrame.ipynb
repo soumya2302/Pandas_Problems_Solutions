{
 "cells": [
  {
   "cell_type": "code",
   "execution_count": 2,
   "id": "db3b40b4-bf02-4994-a692-b33243d15b3a",
   "metadata": {},
   "outputs": [
    {
     "data": {
      "text/html": [
       "<div>\n",
       "<style scoped>\n",
       "    .dataframe tbody tr th:only-of-type {\n",
       "        vertical-align: middle;\n",
       "    }\n",
       "\n",
       "    .dataframe tbody tr th {\n",
       "        vertical-align: top;\n",
       "    }\n",
       "\n",
       "    .dataframe thead th {\n",
       "        text-align: right;\n",
       "    }\n",
       "</style>\n",
       "<table border=\"1\" class=\"dataframe\">\n",
       "  <thead>\n",
       "    <tr style=\"text-align: right;\">\n",
       "      <th></th>\n",
       "      <th>A</th>\n",
       "      <th>B</th>\n",
       "    </tr>\n",
       "  </thead>\n",
       "  <tbody>\n",
       "    <tr>\n",
       "      <th>0</th>\n",
       "      <td>foo</td>\n",
       "      <td>a</td>\n",
       "    </tr>\n",
       "    <tr>\n",
       "      <th>1</th>\n",
       "      <td>bar</td>\n",
       "      <td>b</td>\n",
       "    </tr>\n",
       "    <tr>\n",
       "      <th>2</th>\n",
       "      <td>g2g</td>\n",
       "      <td>a</td>\n",
       "    </tr>\n",
       "    <tr>\n",
       "      <th>3</th>\n",
       "      <td>g2g</td>\n",
       "      <td>b</td>\n",
       "    </tr>\n",
       "    <tr>\n",
       "      <th>4</th>\n",
       "      <td>g2g</td>\n",
       "      <td>b</td>\n",
       "    </tr>\n",
       "    <tr>\n",
       "      <th>5</th>\n",
       "      <td>bar</td>\n",
       "      <td>b</td>\n",
       "    </tr>\n",
       "    <tr>\n",
       "      <th>6</th>\n",
       "      <td>bar</td>\n",
       "      <td>a</td>\n",
       "    </tr>\n",
       "    <tr>\n",
       "      <th>7</th>\n",
       "      <td>foo</td>\n",
       "      <td>a</td>\n",
       "    </tr>\n",
       "    <tr>\n",
       "      <th>8</th>\n",
       "      <td>bar</td>\n",
       "      <td>b</td>\n",
       "    </tr>\n",
       "  </tbody>\n",
       "</table>\n",
       "</div>"
      ],
      "text/plain": [
       "     A  B\n",
       "0  foo  a\n",
       "1  bar  b\n",
       "2  g2g  a\n",
       "3  g2g  b\n",
       "4  g2g  b\n",
       "5  bar  b\n",
       "6  bar  a\n",
       "7  foo  a\n",
       "8  bar  b"
      ]
     },
     "execution_count": 2,
     "metadata": {},
     "output_type": "execute_result"
    }
   ],
   "source": [
    "  \n",
    "# importing pandas as pd \n",
    "import pandas as pd \n",
    "  \n",
    "# sample dataframe \n",
    "df = pd.DataFrame({'A': ['foo', 'bar', 'g2g', 'g2g', 'g2g', \n",
    "                         'bar', 'bar', 'foo', 'bar'], \n",
    "                  'B': ['a', 'b', 'a', 'b', 'b', 'b', 'a', 'a', 'b'] }) \n",
    "df"
   ]
  },
  {
   "cell_type": "markdown",
   "id": "fd8a3244-6728-4ebd-bd95-7bd45adb5c7a",
   "metadata": {},
   "source": [
    "## df.value_counts()"
   ]
  },
  {
   "cell_type": "code",
   "execution_count": 4,
   "id": "3c1000dc-d38e-443d-819b-bfd34e8cc65f",
   "metadata": {},
   "outputs": [
    {
     "data": {
      "text/plain": [
       "A\n",
       "bar    4\n",
       "g2g    3\n",
       "foo    2\n",
       "Name: count, dtype: int64"
      ]
     },
     "execution_count": 4,
     "metadata": {},
     "output_type": "execute_result"
    }
   ],
   "source": [
    "df['A'].value_counts()"
   ]
  },
  {
   "cell_type": "markdown",
   "id": "5cfe6016-869d-420f-8470-cf8f1b0e3173",
   "metadata": {},
   "source": [
    "### groupby().size()"
   ]
  },
  {
   "cell_type": "code",
   "execution_count": 6,
   "id": "a06d62fb-3a46-4d1f-9ce0-c227d5611ba4",
   "metadata": {},
   "outputs": [
    {
     "data": {
      "text/plain": [
       "A    B\n",
       "bar  a    1\n",
       "     b    3\n",
       "foo  a    2\n",
       "g2g  a    1\n",
       "     b    2\n",
       "dtype: int64"
      ]
     },
     "execution_count": 6,
     "metadata": {},
     "output_type": "execute_result"
    }
   ],
   "source": [
    "df.groupby(['A','B']).size()"
   ]
  },
  {
   "cell_type": "markdown",
   "id": "f36bba46-4b67-43d6-92ae-d816ebeec235",
   "metadata": {},
   "source": [
    "### aggregation function-->groupby().count()"
   ]
  },
  {
   "cell_type": "code",
   "execution_count": 8,
   "id": "855648fa-618e-445a-b11b-1300cf592e5e",
   "metadata": {},
   "outputs": [
    {
     "data": {
      "text/html": [
       "<div>\n",
       "<style scoped>\n",
       "    .dataframe tbody tr th:only-of-type {\n",
       "        vertical-align: middle;\n",
       "    }\n",
       "\n",
       "    .dataframe tbody tr th {\n",
       "        vertical-align: top;\n",
       "    }\n",
       "\n",
       "    .dataframe thead th {\n",
       "        text-align: right;\n",
       "    }\n",
       "</style>\n",
       "<table border=\"1\" class=\"dataframe\">\n",
       "  <thead>\n",
       "    <tr style=\"text-align: right;\">\n",
       "      <th></th>\n",
       "      <th>B</th>\n",
       "    </tr>\n",
       "    <tr>\n",
       "      <th>A</th>\n",
       "      <th></th>\n",
       "    </tr>\n",
       "  </thead>\n",
       "  <tbody>\n",
       "    <tr>\n",
       "      <th>bar</th>\n",
       "      <td>4</td>\n",
       "    </tr>\n",
       "    <tr>\n",
       "      <th>foo</th>\n",
       "      <td>2</td>\n",
       "    </tr>\n",
       "    <tr>\n",
       "      <th>g2g</th>\n",
       "      <td>3</td>\n",
       "    </tr>\n",
       "  </tbody>\n",
       "</table>\n",
       "</div>"
      ],
      "text/plain": [
       "     B\n",
       "A     \n",
       "bar  4\n",
       "foo  2\n",
       "g2g  3"
      ]
     },
     "execution_count": 8,
     "metadata": {},
     "output_type": "execute_result"
    }
   ],
   "source": [
    "df.groupby('A').count()"
   ]
  },
  {
   "cell_type": "code",
   "execution_count": null,
   "id": "ac2302f3-2302-4220-885a-9c19547f8903",
   "metadata": {},
   "outputs": [],
   "source": []
  }
 ],
 "metadata": {
  "kernelspec": {
   "display_name": "Python 3 (ipykernel)",
   "language": "python",
   "name": "python3"
  },
  "language_info": {
   "codemirror_mode": {
    "name": "ipython",
    "version": 3
   },
   "file_extension": ".py",
   "mimetype": "text/x-python",
   "name": "python",
   "nbconvert_exporter": "python",
   "pygments_lexer": "ipython3",
   "version": "3.12.1"
  }
 },
 "nbformat": 4,
 "nbformat_minor": 5
}
