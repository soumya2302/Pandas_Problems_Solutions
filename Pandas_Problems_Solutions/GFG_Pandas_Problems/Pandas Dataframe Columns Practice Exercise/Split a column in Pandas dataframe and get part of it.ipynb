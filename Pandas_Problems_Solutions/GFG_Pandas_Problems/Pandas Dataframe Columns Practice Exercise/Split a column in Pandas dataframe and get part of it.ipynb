{
 "cells": [
  {
   "cell_type": "code",
   "execution_count": 2,
   "id": "36d55fdc-219d-4fd3-b18b-9b769281992d",
   "metadata": {},
   "outputs": [
    {
     "data": {
      "text/html": [
       "<div>\n",
       "<style scoped>\n",
       "    .dataframe tbody tr th:only-of-type {\n",
       "        vertical-align: middle;\n",
       "    }\n",
       "\n",
       "    .dataframe tbody tr th {\n",
       "        vertical-align: top;\n",
       "    }\n",
       "\n",
       "    .dataframe thead th {\n",
       "        text-align: right;\n",
       "    }\n",
       "</style>\n",
       "<table border=\"1\" class=\"dataframe\">\n",
       "  <thead>\n",
       "    <tr style=\"text-align: right;\">\n",
       "      <th></th>\n",
       "      <th>Geek_ID</th>\n",
       "      <th>Geek_A</th>\n",
       "      <th>Geek_B</th>\n",
       "      <th>Geek_R</th>\n",
       "    </tr>\n",
       "  </thead>\n",
       "  <tbody>\n",
       "    <tr>\n",
       "      <th>0</th>\n",
       "      <td>Geek1_id</td>\n",
       "      <td>1</td>\n",
       "      <td>1</td>\n",
       "      <td>-0.247130</td>\n",
       "    </tr>\n",
       "    <tr>\n",
       "      <th>1</th>\n",
       "      <td>Geek2_id</td>\n",
       "      <td>1</td>\n",
       "      <td>2</td>\n",
       "      <td>0.365369</td>\n",
       "    </tr>\n",
       "    <tr>\n",
       "      <th>2</th>\n",
       "      <td>Geek3_id</td>\n",
       "      <td>3</td>\n",
       "      <td>3</td>\n",
       "      <td>1.230888</td>\n",
       "    </tr>\n",
       "    <tr>\n",
       "      <th>3</th>\n",
       "      <td>Geek4_id</td>\n",
       "      <td>2</td>\n",
       "      <td>4</td>\n",
       "      <td>-0.074622</td>\n",
       "    </tr>\n",
       "    <tr>\n",
       "      <th>4</th>\n",
       "      <td>Geek5_id</td>\n",
       "      <td>4</td>\n",
       "      <td>6</td>\n",
       "      <td>-0.085900</td>\n",
       "    </tr>\n",
       "  </tbody>\n",
       "</table>\n",
       "</div>"
      ],
      "text/plain": [
       "    Geek_ID  Geek_A  Geek_B    Geek_R\n",
       "0  Geek1_id       1       1 -0.247130\n",
       "1  Geek2_id       1       2  0.365369\n",
       "2  Geek3_id       3       3  1.230888\n",
       "3  Geek4_id       2       4 -0.074622\n",
       "4  Geek5_id       4       6 -0.085900"
      ]
     },
     "execution_count": 2,
     "metadata": {},
     "output_type": "execute_result"
    }
   ],
   "source": [
    "import pandas as pd \n",
    "import numpy as np \n",
    "df = pd.DataFrame({'Geek_ID':['Geek1_id', 'Geek2_id', 'Geek3_id',  \n",
    "                                         'Geek4_id', 'Geek5_id'], \n",
    "                'Geek_A': [1, 1, 3, 2, 4], \n",
    "                'Geek_B': [1, 2, 3, 4, 6], \n",
    "                'Geek_R': np.random.randn(5)}) \n",
    "df"
   ]
  },
  {
   "cell_type": "code",
   "execution_count": 7,
   "id": "c401a937-46f6-4450-ba3a-ad9311d47be4",
   "metadata": {},
   "outputs": [
    {
     "data": {
      "text/plain": [
       "0    Geek1\n",
       "1    Geek2\n",
       "2    Geek3\n",
       "3    Geek4\n",
       "4    Geek5\n",
       "Name: Geek_ID, dtype: object"
      ]
     },
     "execution_count": 7,
     "metadata": {},
     "output_type": "execute_result"
    }
   ],
   "source": [
    "li=df['Geek_ID'].str.split('_').str[0]\n",
    "li"
   ]
  },
  {
   "cell_type": "code",
   "execution_count": 8,
   "id": "87f766e2-6005-45bc-b9a9-49ddd4c898ff",
   "metadata": {},
   "outputs": [
    {
     "data": {
      "text/plain": [
       "['Geek1', 'Geek2', 'Geek3', 'Geek4', 'Geek5']"
      ]
     },
     "execution_count": 8,
     "metadata": {},
     "output_type": "execute_result"
    }
   ],
   "source": [
    "li.tolist()"
   ]
  },
  {
   "cell_type": "code",
   "execution_count": 9,
   "id": "6ce0ca7e-565b-4860-b791-81e7faf1b5ef",
   "metadata": {},
   "outputs": [
    {
     "data": {
      "text/plain": [
       "['id', 'id', 'id', 'id', 'id']"
      ]
     },
     "execution_count": 9,
     "metadata": {},
     "output_type": "execute_result"
    }
   ],
   "source": [
    "df['Geek_ID'].str.split('_').str[1].tolist()"
   ]
  },
  {
   "cell_type": "code",
   "execution_count": null,
   "id": "2a8e3616-0785-492e-adf1-006b5fc57289",
   "metadata": {},
   "outputs": [],
   "source": []
  }
 ],
 "metadata": {
  "kernelspec": {
   "display_name": "Python 3 (ipykernel)",
   "language": "python",
   "name": "python3"
  },
  "language_info": {
   "codemirror_mode": {
    "name": "ipython",
    "version": 3
   },
   "file_extension": ".py",
   "mimetype": "text/x-python",
   "name": "python",
   "nbconvert_exporter": "python",
   "pygments_lexer": "ipython3",
   "version": "3.12.1"
  }
 },
 "nbformat": 4,
 "nbformat_minor": 5
}
