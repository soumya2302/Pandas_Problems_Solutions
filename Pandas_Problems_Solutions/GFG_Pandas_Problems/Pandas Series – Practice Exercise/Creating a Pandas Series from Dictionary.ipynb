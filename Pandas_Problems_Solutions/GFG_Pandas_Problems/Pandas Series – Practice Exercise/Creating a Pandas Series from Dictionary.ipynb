{
 "cells": [
  {
   "cell_type": "markdown",
   "id": "58b0253f-8b29-4ac5-9392-a60b0f8104e9",
   "metadata": {},
   "source": [
    "#### Using Series() method without index parameter"
   ]
  },
  {
   "cell_type": "markdown",
   "id": "93ab202e-03f2-49ca-a5e6-7defc59ad53c",
   "metadata": {},
   "source": [
    "##### Dictionary keys are given in sorted order"
   ]
  },
  {
   "cell_type": "code",
   "execution_count": 3,
   "id": "7d45500b-2211-4ab9-b78a-a3c8846ceee8",
   "metadata": {},
   "outputs": [
    {
     "data": {
      "text/plain": [
       "A    10\n",
       "B    20\n",
       "C    30\n",
       "dtype: int64"
      ]
     },
     "execution_count": 3,
     "metadata": {},
     "output_type": "execute_result"
    }
   ],
   "source": [
    "import pandas as pd\n",
    " \n",
    "# create a dictionary\n",
    "dictionary = {'A': 10, 'B': 20, 'C': 30}\n",
    " \n",
    "# create a series\n",
    "series = pd.Series(dictionary)\n",
    " \n",
    "series"
   ]
  },
  {
   "cell_type": "code",
   "execution_count": 6,
   "id": "bd740327-0b5a-4e0b-a315-5ecb853a82e0",
   "metadata": {},
   "outputs": [
    {
     "data": {
      "text/plain": [
       "D    10\n",
       "B    20\n",
       "C    30\n",
       "dtype: int64"
      ]
     },
     "execution_count": 6,
     "metadata": {},
     "output_type": "execute_result"
    }
   ],
   "source": [
    "dictionary = {'D': 10, 'B': 20, 'C': 30}\n",
    " \n",
    "# create a series\n",
    "series = pd.Series(dictionary)\n",
    "series"
   ]
  },
  {
   "cell_type": "markdown",
   "id": "b6eefaa9-3b31-4ec7-91b9-c5010000ff9e",
   "metadata": {},
   "source": [
    "### Using Series() method with index parameter"
   ]
  },
  {
   "cell_type": "markdown",
   "id": "d2e4367f-8942-4b5a-b089-5eb91f3057ea",
   "metadata": {},
   "source": [
    "#### An index list is passed of the same length as the number of keys present in the dictionary."
   ]
  },
  {
   "cell_type": "code",
   "execution_count": 7,
   "id": "16bec5c4-741f-41d8-9bcc-0edf10c98ec3",
   "metadata": {},
   "outputs": [
    {
     "name": "stdout",
     "output_type": "stream",
     "text": [
      "B    10\n",
      "C    80\n",
      "A    50\n",
      "dtype: int64\n"
     ]
    }
   ],
   "source": [
    "dictionary = {'A': 50, 'B': 10, 'C': 80}\n",
    " \n",
    "# create a series\n",
    "series = pd.Series(dictionary, index=['B', 'C', 'A'])\n",
    " \n",
    "print(series)"
   ]
  },
  {
   "cell_type": "markdown",
   "id": "60cdbb8e-c8b4-4158-ba76-93a2f0857a3b",
   "metadata": {},
   "source": [
    "#### An index list is passed of greater length than the number of keys present in the dictionary, In this case, Index order is persisted and the missing element is filled with NaN (Not a Number)."
   ]
  },
  {
   "cell_type": "code",
   "execution_count": 8,
   "id": "6f2c1ee6-23ac-4f9d-809c-16d049b054e3",
   "metadata": {},
   "outputs": [
    {
     "name": "stdout",
     "output_type": "stream",
     "text": [
      "B    10.0\n",
      "C    80.0\n",
      "D     NaN\n",
      "A    50.0\n",
      "dtype: float64\n"
     ]
    }
   ],
   "source": [
    "dictionary = {'A': 50, 'B': 10, 'C': 80}\n",
    " \n",
    "# create a series\n",
    "series = pd.Series(dictionary, index=['B', 'C', 'D', 'A'])\n",
    " \n",
    "print(series)"
   ]
  },
  {
   "cell_type": "code",
   "execution_count": 10,
   "id": "f3151171-f9fb-4b2f-ad4b-5bd988c2b1d3",
   "metadata": {},
   "outputs": [
    {
     "data": {
      "text/plain": [
       "x   NaN\n",
       "y   NaN\n",
       "z   NaN\n",
       "dtype: float64"
      ]
     },
     "execution_count": 10,
     "metadata": {},
     "output_type": "execute_result"
    }
   ],
   "source": [
    "d = {'a': 1, 'b': 2, 'c': 3}\n",
    "ser = pd.Series(data=d, index=['x', 'y', 'z'])\n",
    "ser"
   ]
  },
  {
   "cell_type": "code",
   "execution_count": null,
   "id": "84450272-8197-4593-bf55-0065e51209be",
   "metadata": {},
   "outputs": [],
   "source": []
  }
 ],
 "metadata": {
  "kernelspec": {
   "display_name": "Python 3 (ipykernel)",
   "language": "python",
   "name": "python3"
  },
  "language_info": {
   "codemirror_mode": {
    "name": "ipython",
    "version": 3
   },
   "file_extension": ".py",
   "mimetype": "text/x-python",
   "name": "python",
   "nbconvert_exporter": "python",
   "pygments_lexer": "ipython3",
   "version": "3.12.1"
  }
 },
 "nbformat": 4,
 "nbformat_minor": 5
}
