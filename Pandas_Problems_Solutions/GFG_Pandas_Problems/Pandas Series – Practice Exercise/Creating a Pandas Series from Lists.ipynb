{
 "cells": [
  {
   "cell_type": "markdown",
   "id": "a5c24fb8-942a-4840-b332-b543c02467eb",
   "metadata": {},
   "source": [
    "#### Using Series() method without any argument."
   ]
  },
  {
   "cell_type": "code",
   "execution_count": 2,
   "id": "e5ca82f4-bc0d-429e-bc65-d6847435598d",
   "metadata": {},
   "outputs": [
    {
     "name": "stdout",
     "output_type": "stream",
     "text": [
      "0    Geeks\n",
      "1      for\n",
      "2    Geeks\n",
      "dtype: object\n"
     ]
    }
   ],
   "source": [
    "import pandas as pd \n",
    "  \n",
    "# create Pandas Series with default index values \n",
    "# default index ranges is from 0 to len(list) - 1 \n",
    "x = pd.Series(['Geeks', 'for', 'Geeks']) \n",
    "  \n",
    "# print the Series \n",
    "print(x)"
   ]
  },
  {
   "cell_type": "markdown",
   "id": "42d9eef3-b324-4bff-9ab4-8b161329781c",
   "metadata": {},
   "source": [
    "#### Using Series() method with 'index' argument."
   ]
  },
  {
   "cell_type": "code",
   "execution_count": 3,
   "id": "58c2e9f0-db3d-45cb-9575-6c30aa48463e",
   "metadata": {},
   "outputs": [
    {
     "name": "stdout",
     "output_type": "stream",
     "text": [
      "a    10\n",
      "b    20\n",
      "c    30\n",
      "d    40\n",
      "e    50\n",
      "dtype: int64\n"
     ]
    }
   ],
   "source": [
    "x = pd.Series([10, 20, 30, 40, 50], index =['a', 'b', 'c', 'd', 'e']) \n",
    "  \n",
    "# print the Series \n",
    "print(x) "
   ]
  },
  {
   "cell_type": "code",
   "execution_count": 4,
   "id": "7c4fbe10-c806-454e-87ec-0a08d7e9c0c9",
   "metadata": {},
   "outputs": [
    {
     "name": "stdout",
     "output_type": "stream",
     "text": [
      "10     Geeks\n",
      "20       for\n",
      "30     Geeks\n",
      "40        is\n",
      "50    portal\n",
      "60       for\n",
      "70     geeks\n",
      "dtype: object\n"
     ]
    }
   ],
   "source": [
    "ind = [10, 20, 30, 40, 50, 60, 70] \n",
    "  \n",
    "lst = ['Geeks', 'for', 'Geeks', 'is', \n",
    "            'portal', 'for', 'geeks'] \n",
    "              \n",
    "# create Pandas Series with define indexes \n",
    "x = pd.Series(lst, index = ind) \n",
    "  \n",
    "# print the Series \n",
    "print(x) "
   ]
  },
  {
   "cell_type": "markdown",
   "id": "d9727c42-ac15-4ea6-a7a8-a9a2548a9a0e",
   "metadata": {},
   "source": [
    "#### Using Series() method with multi-list"
   ]
  },
  {
   "cell_type": "code",
   "execution_count": 5,
   "id": "223e1567-ca17-4fbb-8d4a-35c36b0fb6e8",
   "metadata": {},
   "outputs": [
    {
     "data": {
      "text/plain": [
       "[['Geeks'], ['For'], ['Geeks'], ['is'], ['a'], ['portal'], ['for'], ['geeks']]"
      ]
     },
     "execution_count": 5,
     "metadata": {},
     "output_type": "execute_result"
    }
   ],
   "source": [
    "list = [ ['Geeks'], ['For'], ['Geeks'], ['is'], \n",
    "         ['a'], ['portal'], ['for'], ['geeks'] ] \n",
    "list"
   ]
  },
  {
   "cell_type": "code",
   "execution_count": 7,
   "id": "3c24a684-72f5-48b2-9a8e-a9ea69d5e8d2",
   "metadata": {},
   "outputs": [
    {
     "data": {
      "text/plain": [
       "0     Geeks\n",
       "1       For\n",
       "2     Geeks\n",
       "3        is\n",
       "4         a\n",
       "5    portal\n",
       "6       for\n",
       "7     geeks\n",
       "dtype: object"
      ]
     },
     "execution_count": 7,
     "metadata": {},
     "output_type": "execute_result"
    }
   ],
   "source": [
    "ser=pd.Series([i[0] for i in list])\n",
    "ser"
   ]
  },
  {
   "cell_type": "code",
   "execution_count": null,
   "id": "1a262baf-b92e-4af6-adfc-b1e048691bb1",
   "metadata": {},
   "outputs": [],
   "source": []
  }
 ],
 "metadata": {
  "kernelspec": {
   "display_name": "Python 3 (ipykernel)",
   "language": "python",
   "name": "python3"
  },
  "language_info": {
   "codemirror_mode": {
    "name": "ipython",
    "version": 3
   },
   "file_extension": ".py",
   "mimetype": "text/x-python",
   "name": "python",
   "nbconvert_exporter": "python",
   "pygments_lexer": "ipython3",
   "version": "3.12.1"
  }
 },
 "nbformat": 4,
 "nbformat_minor": 5
}
