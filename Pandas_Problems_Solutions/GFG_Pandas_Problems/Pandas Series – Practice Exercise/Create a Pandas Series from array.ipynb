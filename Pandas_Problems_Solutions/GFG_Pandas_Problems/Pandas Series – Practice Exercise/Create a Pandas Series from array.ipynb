{
 "cells": [
  {
   "cell_type": "code",
   "execution_count": 3,
   "id": "76de6106-b663-46f7-8707-4f6447e291a6",
   "metadata": {},
   "outputs": [],
   "source": [
    "import pandas as pd\n",
    "import numpy as np"
   ]
  },
  {
   "cell_type": "code",
   "execution_count": null,
   "id": "5ee117e9-fc6f-47e7-92f4-6f5924ae2c32",
   "metadata": {},
   "outputs": [],
   "source": []
  },
  {
   "cell_type": "markdown",
   "id": "4a91ad1d-3271-4837-b2f3-a6163ee1d857",
   "metadata": {},
   "source": [
    "#### Create a series from array without index."
   ]
  },
  {
   "cell_type": "code",
   "execution_count": 4,
   "id": "06d38334-3ff5-4eb2-ba7f-88cce9a8ab61",
   "metadata": {},
   "outputs": [
    {
     "data": {
      "text/plain": [
       "array(['a', 'b', 'c', 'd', 'e'], dtype='<U1')"
      ]
     },
     "execution_count": 4,
     "metadata": {},
     "output_type": "execute_result"
    }
   ],
   "source": [
    "data = np.array(['a', 'b', 'c', 'd', 'e']) \n",
    "data"
   ]
  },
  {
   "cell_type": "markdown",
   "id": "4a6a9ddd-204a-4d05-9415-35ac558a1eee",
   "metadata": {},
   "source": [
    "### In this case as no index is passed, so by default index will be range(n) where n is array length."
   ]
  },
  {
   "cell_type": "code",
   "execution_count": 7,
   "id": "8979c0d1-41c7-4f0e-8ed4-4109925f196e",
   "metadata": {},
   "outputs": [
    {
     "data": {
      "text/plain": [
       "0    a\n",
       "1    b\n",
       "2    c\n",
       "3    d\n",
       "4    e\n",
       "dtype: object"
      ]
     },
     "execution_count": 7,
     "metadata": {},
     "output_type": "execute_result"
    }
   ],
   "source": [
    "ser=pd.Series(data=data)\n",
    "ser"
   ]
  },
  {
   "cell_type": "markdown",
   "id": "5075b1af-c9c3-4342-ba54-d5bcc44d131e",
   "metadata": {},
   "source": [
    "#### Create a series from array with index."
   ]
  },
  {
   "cell_type": "code",
   "execution_count": 8,
   "id": "1876c49a-af15-4ca6-acaf-94491ddbc414",
   "metadata": {},
   "outputs": [
    {
     "data": {
      "text/plain": [
       "1000    a\n",
       "1001    b\n",
       "1002    c\n",
       "1003    d\n",
       "1004    e\n",
       "dtype: object"
      ]
     },
     "execution_count": 8,
     "metadata": {},
     "output_type": "execute_result"
    }
   ],
   "source": [
    "ser=pd.Series(data=data,index=[1000, 1001, 1002, 1003, 1004])\n",
    "ser"
   ]
  },
  {
   "cell_type": "code",
   "execution_count": null,
   "id": "509e7be5-f909-45fe-9947-5119bf89740c",
   "metadata": {},
   "outputs": [],
   "source": []
  }
 ],
 "metadata": {
  "kernelspec": {
   "display_name": "Python 3 (ipykernel)",
   "language": "python",
   "name": "python3"
  },
  "language_info": {
   "codemirror_mode": {
    "name": "ipython",
    "version": 3
   },
   "file_extension": ".py",
   "mimetype": "text/x-python",
   "name": "python",
   "nbconvert_exporter": "python",
   "pygments_lexer": "ipython3",
   "version": "3.12.1"
  }
 },
 "nbformat": 4,
 "nbformat_minor": 5
}
