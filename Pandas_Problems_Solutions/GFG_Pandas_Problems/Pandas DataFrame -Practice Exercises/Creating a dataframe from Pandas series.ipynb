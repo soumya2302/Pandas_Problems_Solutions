{
 "cells": [
  {
   "cell_type": "markdown",
   "id": "88f00a54-1b81-4bde-8184-3ad442962430",
   "metadata": {},
   "source": [
    "##### Here we can see after providing an index to the dataframe explicitly, it has filled all data with NaN values since we have created this dataframe using Series and Series has its own default indices(0,1,2) which is why when indices of both dataframe and Series do not match, we got all NaN values."
   ]
  },
  {
   "cell_type": "code",
   "execution_count": 2,
   "id": "810bf546-ebeb-4223-997e-921409c14817",
   "metadata": {},
   "outputs": [
    {
     "name": "stdout",
     "output_type": "stream",
     "text": [
      "     Auth_Name  Author_Book_No  Age\n",
      "SNo1       NaN             NaN  NaN\n",
      "SNo2       NaN             NaN  NaN\n",
      "SNo3       NaN             NaN  NaN\n",
      "SNo4       NaN             NaN  NaN\n"
     ]
    }
   ],
   "source": [
    "\n",
    "# Importing pandas library\n",
    "import pandas as pd\n",
    "# Creating dictionary of Series\n",
    "dict1 = {'Auth_Name': pd.Series(['Jitender',\n",
    "                      'Purnima', 'Arpit', 'Jyoti']),\n",
    "    'Author_Book_No': pd.Series([210, 211, 114, 178]),\n",
    "     'Age': pd.Series([21, 21, 24, 23])}\n",
    " \n",
    "# Creating Dataframe\n",
    "df = pd.DataFrame(dict1, index=['SNo1', 'SNo2', 'SNo3', 'SNo4'])\n",
    "# Printing dataframe\n",
    "print(df)"
   ]
  },
  {
   "cell_type": "markdown",
   "id": "167649ed-3e5d-4a92-a8bc-57cf88b32f60",
   "metadata": {},
   "source": [
    "##### Here, we can rectify this problem by providing the same index values to every Series element. "
   ]
  },
  {
   "cell_type": "code",
   "execution_count": 3,
   "id": "530ec788-f299-470a-8b7e-c2de4cc90c07",
   "metadata": {},
   "outputs": [
    {
     "name": "stdout",
     "output_type": "stream",
     "text": [
      "     Auth_Name  Author_Book_No  Age\n",
      "SNo1  Jitender             210   21\n",
      "SNo2   Purnima             211   21\n",
      "SNo3     Arpit             114   24\n",
      "SNo4     Jyoti             178   23\n"
     ]
    }
   ],
   "source": [
    "import pandas as pd\n",
    "# Creating dictionary of Series\n",
    "dict1 = {'Auth_Name': pd.Series(['Jitender',\n",
    "              'Purnima', 'Arpit', 'Jyoti'],\n",
    "          index=['SNo1', 'SNo2', 'SNo3', 'SNo4']),\n",
    "         'Author_Book_No': pd.Series([210, 211, 114, 178],\n",
    "                   index=['SNo1', 'SNo2', 'SNo3', 'SNo4']),\n",
    "         'Age': pd.Series([21, 21, 24, 23],\n",
    "                index=['SNo1', 'SNo2', 'SNo3', 'SNo4'])}\n",
    " \n",
    "# Creating Dataframe\n",
    "df = pd.DataFrame(dict1, index=['SNo1', 'SNo2', 'SNo3', 'SNo4'])\n",
    "# Printing dataframe\n",
    "print(df)"
   ]
  },
  {
   "cell_type": "code",
   "execution_count": null,
   "id": "62e528a3-d9d3-4384-a0ad-0a8a2c435cae",
   "metadata": {},
   "outputs": [],
   "source": []
  }
 ],
 "metadata": {
  "kernelspec": {
   "display_name": "Python 3 (ipykernel)",
   "language": "python",
   "name": "python3"
  },
  "language_info": {
   "codemirror_mode": {
    "name": "ipython",
    "version": 3
   },
   "file_extension": ".py",
   "mimetype": "text/x-python",
   "name": "python",
   "nbconvert_exporter": "python",
   "pygments_lexer": "ipython3",
   "version": "3.12.1"
  }
 },
 "nbformat": 4,
 "nbformat_minor": 5
}
