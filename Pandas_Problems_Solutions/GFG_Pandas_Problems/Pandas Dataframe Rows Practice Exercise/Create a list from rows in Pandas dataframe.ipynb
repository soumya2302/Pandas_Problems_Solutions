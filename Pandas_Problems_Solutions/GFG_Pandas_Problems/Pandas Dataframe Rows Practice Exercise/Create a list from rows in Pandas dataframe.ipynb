{
 "cells": [
  {
   "cell_type": "code",
   "execution_count": 3,
   "id": "5ece9322-4167-429c-976c-efd361649d33",
   "metadata": {},
   "outputs": [],
   "source": [
    "import pandas as pd"
   ]
  },
  {
   "cell_type": "code",
   "execution_count": 4,
   "id": "3bd1a9e4-f29e-4f69-a5e2-7cf8c7353c14",
   "metadata": {},
   "outputs": [
    {
     "data": {
      "text/html": [
       "<div>\n",
       "<style scoped>\n",
       "    .dataframe tbody tr th:only-of-type {\n",
       "        vertical-align: middle;\n",
       "    }\n",
       "\n",
       "    .dataframe tbody tr th {\n",
       "        vertical-align: top;\n",
       "    }\n",
       "\n",
       "    .dataframe thead th {\n",
       "        text-align: right;\n",
       "    }\n",
       "</style>\n",
       "<table border=\"1\" class=\"dataframe\">\n",
       "  <thead>\n",
       "    <tr style=\"text-align: right;\">\n",
       "      <th></th>\n",
       "      <th>Date</th>\n",
       "      <th>Event</th>\n",
       "      <th>Cost</th>\n",
       "    </tr>\n",
       "  </thead>\n",
       "  <tbody>\n",
       "    <tr>\n",
       "      <th>0</th>\n",
       "      <td>10/2/2011</td>\n",
       "      <td>Music</td>\n",
       "      <td>10000</td>\n",
       "    </tr>\n",
       "    <tr>\n",
       "      <th>1</th>\n",
       "      <td>11/2/2011</td>\n",
       "      <td>Poetry</td>\n",
       "      <td>5000</td>\n",
       "    </tr>\n",
       "    <tr>\n",
       "      <th>2</th>\n",
       "      <td>12/2/2011</td>\n",
       "      <td>Theatre</td>\n",
       "      <td>15000</td>\n",
       "    </tr>\n",
       "    <tr>\n",
       "      <th>3</th>\n",
       "      <td>13/2/11</td>\n",
       "      <td>Comedy</td>\n",
       "      <td>2000</td>\n",
       "    </tr>\n",
       "  </tbody>\n",
       "</table>\n",
       "</div>"
      ],
      "text/plain": [
       "        Date    Event   Cost\n",
       "0  10/2/2011    Music  10000\n",
       "1  11/2/2011   Poetry   5000\n",
       "2  12/2/2011  Theatre  15000\n",
       "3    13/2/11   Comedy   2000"
      ]
     },
     "execution_count": 4,
     "metadata": {},
     "output_type": "execute_result"
    }
   ],
   "source": [
    "df = pd.DataFrame({'Date':['10/2/2011', '11/2/2011', '12/2/2011', '13/2/11'], \n",
    "                    'Event':['Music', 'Poetry', 'Theatre', 'Comedy'], \n",
    "                    'Cost':[10000, 5000, 15000, 2000]}) \n",
    "  \n",
    "df"
   ]
  },
  {
   "cell_type": "markdown",
   "id": "00fc8899-779b-47ac-97c8-460500eeda90",
   "metadata": {},
   "source": [
    "### filter data based on multiple conditions"
   ]
  },
  {
   "cell_type": "code",
   "execution_count": 8,
   "id": "3a3d0b62-a4cc-4844-87f0-a4c77c9dd1e0",
   "metadata": {},
   "outputs": [
    {
     "data": {
      "text/html": [
       "<div>\n",
       "<style scoped>\n",
       "    .dataframe tbody tr th:only-of-type {\n",
       "        vertical-align: middle;\n",
       "    }\n",
       "\n",
       "    .dataframe tbody tr th {\n",
       "        vertical-align: top;\n",
       "    }\n",
       "\n",
       "    .dataframe thead th {\n",
       "        text-align: right;\n",
       "    }\n",
       "</style>\n",
       "<table border=\"1\" class=\"dataframe\">\n",
       "  <thead>\n",
       "    <tr style=\"text-align: right;\">\n",
       "      <th></th>\n",
       "      <th>Date</th>\n",
       "      <th>Event</th>\n",
       "      <th>Cost</th>\n",
       "    </tr>\n",
       "  </thead>\n",
       "  <tbody>\n",
       "    <tr>\n",
       "      <th>0</th>\n",
       "      <td>10/2/2011</td>\n",
       "      <td>Music</td>\n",
       "      <td>10000</td>\n",
       "    </tr>\n",
       "    <tr>\n",
       "      <th>1</th>\n",
       "      <td>11/2/2011</td>\n",
       "      <td>Poetry</td>\n",
       "      <td>5000</td>\n",
       "    </tr>\n",
       "  </tbody>\n",
       "</table>\n",
       "</div>"
      ],
      "text/plain": [
       "        Date   Event   Cost\n",
       "0  10/2/2011   Music  10000\n",
       "1  11/2/2011  Poetry   5000"
      ]
     },
     "execution_count": 8,
     "metadata": {},
     "output_type": "execute_result"
    }
   ],
   "source": [
    "df[(df.Event=='Music') | (df.Cost==5000)]"
   ]
  },
  {
   "cell_type": "code",
   "execution_count": null,
   "id": "b7c5373d-dd64-4e95-ae55-287455dcb602",
   "metadata": {},
   "outputs": [],
   "source": []
  },
  {
   "cell_type": "markdown",
   "id": "7fb69084-85d0-4b6d-afab-a5f769433c03",
   "metadata": {},
   "source": [
    "### iterrows()"
   ]
  },
  {
   "cell_type": "code",
   "execution_count": 8,
   "id": "2a54a4ce-b5b2-43d1-bd9b-1b420c3c851c",
   "metadata": {},
   "outputs": [
    {
     "data": {
      "text/plain": [
       "[['10/2/2011', 'Music', 10000],\n",
       " ['11/2/2011', 'Poetry', 5000],\n",
       " ['12/2/2011', 'Theatre', 15000],\n",
       " ['13/2/11', 'Comedy', 2000]]"
      ]
     },
     "execution_count": 8,
     "metadata": {},
     "output_type": "execute_result"
    }
   ],
   "source": [
    "li=[]\n",
    "for index,series in df.iterrows():\n",
    "    li.append([series.Date,series.Event,series.Cost])\n",
    "li    "
   ]
  },
  {
   "cell_type": "markdown",
   "id": "6ba4f395-3c20-4e81-89d4-93d551ad4168",
   "metadata": {},
   "source": [
    "### itertuples()"
   ]
  },
  {
   "cell_type": "code",
   "execution_count": 10,
   "id": "64681d4b-d08f-4746-a2a1-a7041d0d27cc",
   "metadata": {},
   "outputs": [
    {
     "data": {
      "text/plain": [
       "[['10/2/2011', 'Music', 10000],\n",
       " ['11/2/2011', 'Poetry', 5000],\n",
       " ['12/2/2011', 'Theatre', 15000],\n",
       " ['13/2/11', 'Comedy', 2000]]"
      ]
     },
     "execution_count": 10,
     "metadata": {},
     "output_type": "execute_result"
    }
   ],
   "source": [
    "li=[]\n",
    "for i in df.itertuples():\n",
    "    li.append([getattr(i,'Date'),getattr(i,'Event'),getattr(i,'Cost')])\n",
    "li       "
   ]
  },
  {
   "cell_type": "code",
   "execution_count": 11,
   "id": "d2276e9e-2606-46a3-b83a-087c08568984",
   "metadata": {},
   "outputs": [
    {
     "data": {
      "text/plain": [
       "[['10/2/2011', 'Music', 10000],\n",
       " ['11/2/2011', 'Poetry', 5000],\n",
       " ['12/2/2011', 'Theatre', 15000],\n",
       " ['13/2/11', 'Comedy', 2000]]"
      ]
     },
     "execution_count": 11,
     "metadata": {},
     "output_type": "execute_result"
    }
   ],
   "source": [
    "li=[]\n",
    "for i in df.itertuples():\n",
    "    li.append([i.Date,i.Event,i.Cost])\n",
    "li"
   ]
  },
  {
   "cell_type": "markdown",
   "id": "c987b10b-a221-46d5-aefc-6a8779b0bfa5",
   "metadata": {},
   "source": [
    "### df.iloc[]"
   ]
  },
  {
   "cell_type": "code",
   "execution_count": 18,
   "id": "f7c10ce6-c8dd-41d6-b925-33223e406ade",
   "metadata": {},
   "outputs": [
    {
     "data": {
      "text/plain": [
       "[['10/2/2011', 'Music', 10000],\n",
       " ['11/2/2011', 'Poetry', 5000],\n",
       " ['12/2/2011', 'Theatre', 15000],\n",
       " ['13/2/11', 'Comedy', 2000]]"
      ]
     },
     "execution_count": 18,
     "metadata": {},
     "output_type": "execute_result"
    }
   ],
   "source": [
    "li=[]\n",
    "for i in range(df.shape[0]):\n",
    "    li.append(list(df.iloc[i,:]))\n",
    "li    "
   ]
  },
  {
   "cell_type": "code",
   "execution_count": 15,
   "id": "b76a8385-84f6-4b30-a2a6-8787e43227bf",
   "metadata": {},
   "outputs": [
    {
     "data": {
      "text/plain": [
       "[['10/2/2011', 'Music', 10000],\n",
       " ['11/2/2011', 'Poetry', 5000],\n",
       " ['12/2/2011', 'Theatre', 15000],\n",
       " ['13/2/11', 'Comedy', 2000]]"
      ]
     },
     "execution_count": 15,
     "metadata": {},
     "output_type": "execute_result"
    }
   ],
   "source": [
    "li=[]\n",
    "for i in range(df.shape[0]):\n",
    "    li2=[]\n",
    "    for j in range(df.shape[1]):\n",
    "        li2.append(df.iloc[i,j])\n",
    "    li.append(li2)    \n",
    "li    "
   ]
  },
  {
   "cell_type": "markdown",
   "id": "c871501f-0b01-4d3e-9fe0-fc5e972d2e0e",
   "metadata": {},
   "source": [
    "### df.iat[]"
   ]
  },
  {
   "cell_type": "code",
   "execution_count": 16,
   "id": "3dcd52a8-de8b-4e3f-ab4b-d7fe658e86b7",
   "metadata": {},
   "outputs": [
    {
     "data": {
      "text/plain": [
       "[['10/2/2011', 'Music', 10000],\n",
       " ['11/2/2011', 'Poetry', 5000],\n",
       " ['12/2/2011', 'Theatre', 15000],\n",
       " ['13/2/11', 'Comedy', 2000]]"
      ]
     },
     "execution_count": 16,
     "metadata": {},
     "output_type": "execute_result"
    }
   ],
   "source": [
    "li=[]\n",
    "for i in range(df.shape[0]):\n",
    "    li2=[]\n",
    "    for j in range(df.shape[1]):\n",
    "        li2.append(df.iat[i,j])\n",
    "    li.append(li2)    \n",
    "li "
   ]
  },
  {
   "cell_type": "markdown",
   "id": "48d56c4c-466b-4bd1-9d36-8f4ae18c6f31",
   "metadata": {},
   "source": [
    "### df.loc[]"
   ]
  },
  {
   "cell_type": "code",
   "execution_count": 20,
   "id": "76745e99-d7e1-4b50-92ef-13911d85bf4e",
   "metadata": {},
   "outputs": [
    {
     "data": {
      "text/plain": [
       "[['10/2/2011', 'Music', 10000],\n",
       " ['11/2/2011', 'Poetry', 5000],\n",
       " ['12/2/2011', 'Theatre', 15000],\n",
       " ['13/2/11', 'Comedy', 2000]]"
      ]
     },
     "execution_count": 20,
     "metadata": {},
     "output_type": "execute_result"
    }
   ],
   "source": [
    "li=[]\n",
    "for i in range(df.shape[0]):\n",
    "    li.append(list(df.loc[i,:]))\n",
    "li"
   ]
  },
  {
   "cell_type": "code",
   "execution_count": null,
   "id": "f8f7b9e7-376e-480d-98fe-46c83919d799",
   "metadata": {},
   "outputs": [],
   "source": []
  }
 ],
 "metadata": {
  "kernelspec": {
   "display_name": "Python 3 (ipykernel)",
   "language": "python",
   "name": "python3"
  },
  "language_info": {
   "codemirror_mode": {
    "name": "ipython",
    "version": 3
   },
   "file_extension": ".py",
   "mimetype": "text/x-python",
   "name": "python",
   "nbconvert_exporter": "python",
   "pygments_lexer": "ipython3",
   "version": "3.12.1"
  }
 },
 "nbformat": 4,
 "nbformat_minor": 5
}
