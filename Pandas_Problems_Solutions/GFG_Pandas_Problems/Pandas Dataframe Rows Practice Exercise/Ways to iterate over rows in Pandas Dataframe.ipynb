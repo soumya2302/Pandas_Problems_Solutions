{
 "cells": [
  {
   "cell_type": "code",
   "execution_count": 2,
   "id": "204231d7-53c6-4938-80b5-6ae2c4a0f811",
   "metadata": {},
   "outputs": [],
   "source": [
    "import pandas as pd"
   ]
  },
  {
   "cell_type": "markdown",
   "id": "0c94c452-bc21-43c4-9d79-ea414d5c83b6",
   "metadata": {},
   "source": [
    "## ways"
   ]
  },
  {
   "cell_type": "markdown",
   "id": "cc0cc7ce-5dc4-4543-930e-78131458d63c",
   "metadata": {},
   "source": [
    "iterrows()\n",
    "itertuples()\n",
    "index \n",
    "loc[] function\n",
    "iloc[]\n",
    "apply()"
   ]
  },
  {
   "cell_type": "code",
   "execution_count": 3,
   "id": "b89b678b-b271-47c7-870d-877e964868a1",
   "metadata": {},
   "outputs": [
    {
     "data": {
      "text/html": [
       "<div>\n",
       "<style scoped>\n",
       "    .dataframe tbody tr th:only-of-type {\n",
       "        vertical-align: middle;\n",
       "    }\n",
       "\n",
       "    .dataframe tbody tr th {\n",
       "        vertical-align: top;\n",
       "    }\n",
       "\n",
       "    .dataframe thead th {\n",
       "        text-align: right;\n",
       "    }\n",
       "</style>\n",
       "<table border=\"1\" class=\"dataframe\">\n",
       "  <thead>\n",
       "    <tr style=\"text-align: right;\">\n",
       "      <th></th>\n",
       "      <th>name</th>\n",
       "      <th>age</th>\n",
       "    </tr>\n",
       "  </thead>\n",
       "  <tbody>\n",
       "    <tr>\n",
       "      <th>0</th>\n",
       "      <td>Sujeet</td>\n",
       "      <td>10</td>\n",
       "    </tr>\n",
       "    <tr>\n",
       "      <th>1</th>\n",
       "      <td>Sameer</td>\n",
       "      <td>11</td>\n",
       "    </tr>\n",
       "    <tr>\n",
       "      <th>2</th>\n",
       "      <td>Sumit</td>\n",
       "      <td>12</td>\n",
       "    </tr>\n",
       "  </tbody>\n",
       "</table>\n",
       "</div>"
      ],
      "text/plain": [
       "     name  age\n",
       "0  Sujeet   10\n",
       "1  Sameer   11\n",
       "2   Sumit   12"
      ]
     },
     "execution_count": 3,
     "metadata": {},
     "output_type": "execute_result"
    }
   ],
   "source": [
    "input_df = [{'name':'Sujeet', 'age':10},\n",
    "            {'name':'Sameer', 'age':11},\n",
    "            {'name':'Sumit', 'age':12}]\n",
    " \n",
    "df = pd.DataFrame(input_df)\n",
    "df"
   ]
  },
  {
   "cell_type": "markdown",
   "id": "0c87363f-917e-44c6-a4fb-859a77c2d2b7",
   "metadata": {},
   "source": [
    "#### iterrows()-->iterate over rows of df as (index,series) pair--->index--->index of row/tuple if multiindex rows,series-->data of row as series"
   ]
  },
  {
   "cell_type": "code",
   "execution_count": 15,
   "id": "2f6f7d00-4e3b-433b-8116-48c4bc75d981",
   "metadata": {},
   "outputs": [
    {
     "data": {
      "text/plain": [
       "{0: name    Sujeet\n",
       " age         10\n",
       " Name: 0, dtype: object,\n",
       " 1: name    Sameer\n",
       " age         11\n",
       " Name: 1, dtype: object,\n",
       " 2: name    Sumit\n",
       " age        12\n",
       " Name: 2, dtype: object}"
      ]
     },
     "execution_count": 15,
     "metadata": {},
     "output_type": "execute_result"
    }
   ],
   "source": [
    "dict(df.iterrows())"
   ]
  },
  {
   "cell_type": "code",
   "execution_count": 19,
   "id": "6050d4c3-b6db-4a64-9eae-c6a8876f102a",
   "metadata": {},
   "outputs": [
    {
     "name": "stdout",
     "output_type": "stream",
     "text": [
      "0\n",
      "name    Sujeet\n",
      "age         10\n",
      "Name: 0, dtype: object\n",
      "1\n",
      "name    Sameer\n",
      "age         11\n",
      "Name: 1, dtype: object\n",
      "2\n",
      "name    Sumit\n",
      "age        12\n",
      "Name: 2, dtype: object\n"
     ]
    }
   ],
   "source": [
    "for index,series in df.iterrows():\n",
    "    print(index,series,sep='\\n')"
   ]
  },
  {
   "cell_type": "code",
   "execution_count": 22,
   "id": "f437f811-9419-42da-89dc-05fa71fe6928",
   "metadata": {},
   "outputs": [
    {
     "name": "stdout",
     "output_type": "stream",
     "text": [
      "Sujeet\t10\n",
      "Sameer\t11\n",
      "Sumit\t12\n"
     ]
    }
   ],
   "source": [
    "for index,series in df.iterrows():\n",
    "    print(series['name'],series['age'],sep='\\t')"
   ]
  },
  {
   "cell_type": "code",
   "execution_count": null,
   "id": "fba8154d-06e1-4192-bdaa-b1d06c37ed7f",
   "metadata": {},
   "outputs": [],
   "source": []
  },
  {
   "cell_type": "markdown",
   "id": "13cf0f14-3933-4536-bd66-b020ff797f92",
   "metadata": {},
   "source": [
    "### itertuples()"
   ]
  },
  {
   "cell_type": "code",
   "execution_count": null,
   "id": "44df00bb-fcb2-4e2b-b03e-b1a862cd5afc",
   "metadata": {},
   "outputs": [],
   "source": [
    "itertuples(index=True,name='Pandas')--->iterate over rows of df and return namedtuple\n",
    "index=True-->first elementt of returned namedtuple will be index \n",
    "name='Pandas'--->name of returned namedtupple is Pandas \n",
    "name=None to return regular tuples."
   ]
  },
  {
   "cell_type": "code",
   "execution_count": null,
   "id": "e7ac294b-891c-4523-bc4d-27b7238aa364",
   "metadata": {},
   "outputs": [],
   "source": []
  },
  {
   "cell_type": "code",
   "execution_count": 26,
   "id": "1312bbce-5228-4472-a7fd-1f2c4f3b9966",
   "metadata": {},
   "outputs": [
    {
     "data": {
      "text/plain": [
       "[Pandas(Index=0, name='Sujeet', age=10),\n",
       " Pandas(Index=1, name='Sameer', age=11),\n",
       " Pandas(Index=2, name='Sumit', age=12)]"
      ]
     },
     "execution_count": 26,
     "metadata": {},
     "output_type": "execute_result"
    }
   ],
   "source": [
    "list(df.itertuples())"
   ]
  },
  {
   "cell_type": "code",
   "execution_count": 27,
   "id": "794112c1-7613-4492-a6fb-ad2497888989",
   "metadata": {},
   "outputs": [
    {
     "data": {
      "text/plain": [
       "[Pandas(name='Sujeet', age=10),\n",
       " Pandas(name='Sameer', age=11),\n",
       " Pandas(name='Sumit', age=12)]"
      ]
     },
     "execution_count": 27,
     "metadata": {},
     "output_type": "execute_result"
    }
   ],
   "source": [
    "list(df.itertuples(index=False))"
   ]
  },
  {
   "cell_type": "code",
   "execution_count": 28,
   "id": "da884026-2d96-41b1-9920-3c63d36f3143",
   "metadata": {},
   "outputs": [
    {
     "data": {
      "text/plain": [
       "[(0, 'Sujeet', 10), (1, 'Sameer', 11), (2, 'Sumit', 12)]"
      ]
     },
     "execution_count": 28,
     "metadata": {},
     "output_type": "execute_result"
    }
   ],
   "source": [
    "list(df.itertuples(name=None))"
   ]
  },
  {
   "cell_type": "code",
   "execution_count": null,
   "id": "cecdc0b4-c05c-4cb2-a1ca-96d8cb6c839a",
   "metadata": {},
   "outputs": [],
   "source": []
  },
  {
   "cell_type": "code",
   "execution_count": 30,
   "id": "c7d327f9-d880-4091-af56-bad8eee043c2",
   "metadata": {},
   "outputs": [
    {
     "name": "stdout",
     "output_type": "stream",
     "text": [
      "Pandas(Index=0, name='Sujeet', age=10)\n",
      "Pandas(Index=1, name='Sameer', age=11)\n",
      "Pandas(Index=2, name='Sumit', age=12)\n"
     ]
    }
   ],
   "source": [
    "for row in df.itertuples():\n",
    "    print(row)"
   ]
  },
  {
   "cell_type": "code",
   "execution_count": null,
   "id": "7b5d8457-6df6-496f-9a2a-3851df0716d9",
   "metadata": {},
   "outputs": [],
   "source": []
  },
  {
   "cell_type": "code",
   "execution_count": 33,
   "id": "5ca9d9d0-e2ac-4821-a2ee-d64c8af912fc",
   "metadata": {},
   "outputs": [
    {
     "name": "stdout",
     "output_type": "stream",
     "text": [
      "Sujeet\t10\n",
      "Sameer\t11\n",
      "Sumit\t12\n"
     ]
    }
   ],
   "source": [
    "for row in df.itertuples():\n",
    "    print(getattr(row,'name'),getattr(row,'age'),sep='\\t')"
   ]
  },
  {
   "cell_type": "code",
   "execution_count": null,
   "id": "a218e677-97ae-4e0b-9834-854e15030907",
   "metadata": {},
   "outputs": [],
   "source": []
  },
  {
   "cell_type": "markdown",
   "id": "9af5ac3f-8cad-4db4-9c70-88095bf0aba7",
   "metadata": {},
   "source": [
    "### df.index"
   ]
  },
  {
   "cell_type": "code",
   "execution_count": null,
   "id": "0edacb93-4e4b-433f-856b-7d5e07af75ae",
   "metadata": {},
   "outputs": [],
   "source": []
  },
  {
   "cell_type": "code",
   "execution_count": 5,
   "id": "c729c37b-7a1a-40db-8e71-ea04dd73d965",
   "metadata": {},
   "outputs": [
    {
     "data": {
      "text/plain": [
       "[0, 1, 2]"
      ]
     },
     "execution_count": 5,
     "metadata": {},
     "output_type": "execute_result"
    }
   ],
   "source": [
    "list(df.index)"
   ]
  },
  {
   "cell_type": "code",
   "execution_count": 12,
   "id": "25be5aec-34cb-4b78-9697-c6fe69a0f3f1",
   "metadata": {},
   "outputs": [
    {
     "name": "stdout",
     "output_type": "stream",
     "text": [
      "Sujeet\t10\n",
      "Sameer\t11\n",
      "Sumit\t12\n"
     ]
    }
   ],
   "source": [
    "for i in df.index:\n",
    "    print(df['name'][i],df['age'][i],sep='\\t')\n",
    "    "
   ]
  },
  {
   "cell_type": "code",
   "execution_count": 34,
   "id": "b907b13b-f5aa-4e8b-97f8-a5baaf130a65",
   "metadata": {},
   "outputs": [
    {
     "data": {
      "text/html": [
       "<div>\n",
       "<style scoped>\n",
       "    .dataframe tbody tr th:only-of-type {\n",
       "        vertical-align: middle;\n",
       "    }\n",
       "\n",
       "    .dataframe tbody tr th {\n",
       "        vertical-align: top;\n",
       "    }\n",
       "\n",
       "    .dataframe thead th {\n",
       "        text-align: right;\n",
       "    }\n",
       "</style>\n",
       "<table border=\"1\" class=\"dataframe\">\n",
       "  <thead>\n",
       "    <tr style=\"text-align: right;\">\n",
       "      <th></th>\n",
       "      <th>Name</th>\n",
       "      <th>Age</th>\n",
       "      <th>Stream</th>\n",
       "      <th>Percentage</th>\n",
       "    </tr>\n",
       "  </thead>\n",
       "  <tbody>\n",
       "    <tr>\n",
       "      <th>0</th>\n",
       "      <td>Ankit</td>\n",
       "      <td>21</td>\n",
       "      <td>Math</td>\n",
       "      <td>88</td>\n",
       "    </tr>\n",
       "    <tr>\n",
       "      <th>1</th>\n",
       "      <td>Amit</td>\n",
       "      <td>19</td>\n",
       "      <td>Commerce</td>\n",
       "      <td>92</td>\n",
       "    </tr>\n",
       "    <tr>\n",
       "      <th>2</th>\n",
       "      <td>Aishwarya</td>\n",
       "      <td>20</td>\n",
       "      <td>Arts</td>\n",
       "      <td>95</td>\n",
       "    </tr>\n",
       "    <tr>\n",
       "      <th>3</th>\n",
       "      <td>Priyanka</td>\n",
       "      <td>18</td>\n",
       "      <td>Biology</td>\n",
       "      <td>70</td>\n",
       "    </tr>\n",
       "  </tbody>\n",
       "</table>\n",
       "</div>"
      ],
      "text/plain": [
       "        Name  Age    Stream  Percentage\n",
       "0      Ankit   21      Math          88\n",
       "1       Amit   19  Commerce          92\n",
       "2  Aishwarya   20      Arts          95\n",
       "3   Priyanka   18   Biology          70"
      ]
     },
     "execution_count": 34,
     "metadata": {},
     "output_type": "execute_result"
    }
   ],
   "source": [
    "data = {'Name': ['Ankit', 'Amit',\n",
    "                 'Aishwarya', 'Priyanka'],\n",
    "        'Age': [21, 19, 20, 18],\n",
    "        'Stream': ['Math', 'Commerce',\n",
    "                   'Arts', 'Biology'],\n",
    "        'Percentage': [88, 92, 95, 70]}\n",
    " \n",
    "# Convert the dictionary into DataFrame\n",
    "df = pd.DataFrame(data, columns=['Name', 'Age', \n",
    "                                 'Stream', 'Percentage'])\n",
    "df"
   ]
  },
  {
   "cell_type": "code",
   "execution_count": 39,
   "id": "221bbc82-70b5-4b4f-965d-d01f515f043b",
   "metadata": {},
   "outputs": [
    {
     "name": "stdout",
     "output_type": "stream",
     "text": [
      "Ankit 21 Math 88\n",
      "Amit 19 Commerce 92\n",
      "Aishwarya 20 Arts 95\n",
      "Priyanka 18 Biology 70\n"
     ]
    }
   ],
   "source": [
    "for i in df.index:\n",
    "    print(df['Name'][i],df['Age'][i],df['Stream'][i],df['Percentage'][i])"
   ]
  },
  {
   "cell_type": "code",
   "execution_count": null,
   "id": "aa85df2a-63e9-4ce6-80e6-6307b4bc6c5b",
   "metadata": {},
   "outputs": [],
   "source": []
  },
  {
   "cell_type": "markdown",
   "id": "a07da987-5a46-477a-9565-7b1383c57761",
   "metadata": {},
   "source": [
    "### loc[]"
   ]
  },
  {
   "cell_type": "code",
   "execution_count": 41,
   "id": "717590c2-eb4b-4718-b42d-54f5c59814b0",
   "metadata": {},
   "outputs": [
    {
     "data": {
      "text/html": [
       "<div>\n",
       "<style scoped>\n",
       "    .dataframe tbody tr th:only-of-type {\n",
       "        vertical-align: middle;\n",
       "    }\n",
       "\n",
       "    .dataframe tbody tr th {\n",
       "        vertical-align: top;\n",
       "    }\n",
       "\n",
       "    .dataframe thead th {\n",
       "        text-align: right;\n",
       "    }\n",
       "</style>\n",
       "<table border=\"1\" class=\"dataframe\">\n",
       "  <thead>\n",
       "    <tr style=\"text-align: right;\">\n",
       "      <th></th>\n",
       "      <th>Name</th>\n",
       "      <th>Age</th>\n",
       "      <th>Stream</th>\n",
       "      <th>Percentage</th>\n",
       "    </tr>\n",
       "  </thead>\n",
       "  <tbody>\n",
       "    <tr>\n",
       "      <th>0</th>\n",
       "      <td>Ankit</td>\n",
       "      <td>21</td>\n",
       "      <td>Math</td>\n",
       "      <td>88</td>\n",
       "    </tr>\n",
       "    <tr>\n",
       "      <th>1</th>\n",
       "      <td>Amit</td>\n",
       "      <td>19</td>\n",
       "      <td>Commerce</td>\n",
       "      <td>92</td>\n",
       "    </tr>\n",
       "    <tr>\n",
       "      <th>2</th>\n",
       "      <td>Aishwarya</td>\n",
       "      <td>20</td>\n",
       "      <td>Arts</td>\n",
       "      <td>95</td>\n",
       "    </tr>\n",
       "    <tr>\n",
       "      <th>3</th>\n",
       "      <td>Priyanka</td>\n",
       "      <td>18</td>\n",
       "      <td>Biology</td>\n",
       "      <td>70</td>\n",
       "    </tr>\n",
       "  </tbody>\n",
       "</table>\n",
       "</div>"
      ],
      "text/plain": [
       "        Name  Age    Stream  Percentage\n",
       "0      Ankit   21      Math          88\n",
       "1       Amit   19  Commerce          92\n",
       "2  Aishwarya   20      Arts          95\n",
       "3   Priyanka   18   Biology          70"
      ]
     },
     "execution_count": 41,
     "metadata": {},
     "output_type": "execute_result"
    }
   ],
   "source": [
    "df"
   ]
  },
  {
   "cell_type": "code",
   "execution_count": 55,
   "id": "d85f8fb5-800b-4e51-933d-4a1f4bf08ebc",
   "metadata": {},
   "outputs": [
    {
     "data": {
      "text/html": [
       "<div>\n",
       "<style scoped>\n",
       "    .dataframe tbody tr th:only-of-type {\n",
       "        vertical-align: middle;\n",
       "    }\n",
       "\n",
       "    .dataframe tbody tr th {\n",
       "        vertical-align: top;\n",
       "    }\n",
       "\n",
       "    .dataframe thead th {\n",
       "        text-align: right;\n",
       "    }\n",
       "</style>\n",
       "<table border=\"1\" class=\"dataframe\">\n",
       "  <thead>\n",
       "    <tr style=\"text-align: right;\">\n",
       "      <th></th>\n",
       "      <th>Name</th>\n",
       "      <th>Age</th>\n",
       "      <th>Stream</th>\n",
       "      <th>Percentage</th>\n",
       "    </tr>\n",
       "  </thead>\n",
       "  <tbody>\n",
       "    <tr>\n",
       "      <th>0</th>\n",
       "      <td>Ankit</td>\n",
       "      <td>21</td>\n",
       "      <td>Math</td>\n",
       "      <td>88</td>\n",
       "    </tr>\n",
       "    <tr>\n",
       "      <th>1</th>\n",
       "      <td>Amit</td>\n",
       "      <td>19</td>\n",
       "      <td>Commerce</td>\n",
       "      <td>92</td>\n",
       "    </tr>\n",
       "    <tr>\n",
       "      <th>2</th>\n",
       "      <td>Aishwarya</td>\n",
       "      <td>20</td>\n",
       "      <td>Arts</td>\n",
       "      <td>95</td>\n",
       "    </tr>\n",
       "  </tbody>\n",
       "</table>\n",
       "</div>"
      ],
      "text/plain": [
       "        Name  Age    Stream  Percentage\n",
       "0      Ankit   21      Math          88\n",
       "1       Amit   19  Commerce          92\n",
       "2  Aishwarya   20      Arts          95"
      ]
     },
     "execution_count": 55,
     "metadata": {},
     "output_type": "execute_result"
    }
   ],
   "source": [
    "df.loc[:2]"
   ]
  },
  {
   "cell_type": "code",
   "execution_count": 56,
   "id": "cdcdae6f-9fd5-4d88-862e-785d6e03cdaa",
   "metadata": {},
   "outputs": [
    {
     "name": "stdout",
     "output_type": "stream",
     "text": [
      "Ankit 21\n",
      "Amit 19\n",
      "Aishwarya 20\n",
      "Priyanka 18\n"
     ]
    }
   ],
   "source": [
    "for i in range(len(df)):\n",
    "    print(df.loc[i,'Name'],df.loc[i,'Age'])"
   ]
  },
  {
   "cell_type": "markdown",
   "id": "5f837dc3-2708-4e17-b200-a8357688abb6",
   "metadata": {},
   "source": [
    "## iloc[]"
   ]
  },
  {
   "cell_type": "code",
   "execution_count": 57,
   "id": "60770345-7c0f-433a-8469-36a82ca3947a",
   "metadata": {},
   "outputs": [
    {
     "name": "stdout",
     "output_type": "stream",
     "text": [
      "21 Ankit\n",
      "19 Amit\n",
      "20 Aishwarya\n",
      "18 Priyanka\n"
     ]
    }
   ],
   "source": [
    "for i in range(len(df)):\n",
    "    print(df.iloc[i,1],df.iloc[i,0])"
   ]
  },
  {
   "cell_type": "markdown",
   "id": "fa5d2985-ccd5-4a75-95de-a8caa5b345ba",
   "metadata": {},
   "source": [
    "## apply()"
   ]
  },
  {
   "cell_type": "code",
   "execution_count": 64,
   "id": "c2fd25b0-84f4-42ea-9439-a3790284cd45",
   "metadata": {},
   "outputs": [
    {
     "data": {
      "text/plain": [
       "0        Ankit    88\n",
       "1         Amit    92\n",
       "2    Aishwarya    95\n",
       "3     Priyanka    70\n",
       "dtype: object"
      ]
     },
     "execution_count": 64,
     "metadata": {},
     "output_type": "execute_result"
    }
   ],
   "source": [
    "df.apply(lambda x:x['Name'] + \"    \" + str(x['Percentage']) ,axis=1)"
   ]
  },
  {
   "cell_type": "code",
   "execution_count": null,
   "id": "b6bfccf6-befe-4c35-ac68-f776318e24ec",
   "metadata": {},
   "outputs": [],
   "source": []
  }
 ],
 "metadata": {
  "kernelspec": {
   "display_name": "Python 3 (ipykernel)",
   "language": "python",
   "name": "python3"
  },
  "language_info": {
   "codemirror_mode": {
    "name": "ipython",
    "version": 3
   },
   "file_extension": ".py",
   "mimetype": "text/x-python",
   "name": "python",
   "nbconvert_exporter": "python",
   "pygments_lexer": "ipython3",
   "version": "3.12.1"
  }
 },
 "nbformat": 4,
 "nbformat_minor": 5
}
