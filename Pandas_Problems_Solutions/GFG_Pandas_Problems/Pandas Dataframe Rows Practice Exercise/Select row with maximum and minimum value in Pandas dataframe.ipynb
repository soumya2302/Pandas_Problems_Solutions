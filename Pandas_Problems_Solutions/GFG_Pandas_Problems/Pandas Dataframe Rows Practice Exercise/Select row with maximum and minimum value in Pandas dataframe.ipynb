{
 "cells": [
  {
   "cell_type": "code",
   "execution_count": 2,
   "id": "72b13937-b249-4029-87e5-8a5c8e1c0cd9",
   "metadata": {},
   "outputs": [
    {
     "data": {
      "text/html": [
       "<div>\n",
       "<style scoped>\n",
       "    .dataframe tbody tr th:only-of-type {\n",
       "        vertical-align: middle;\n",
       "    }\n",
       "\n",
       "    .dataframe tbody tr th {\n",
       "        vertical-align: top;\n",
       "    }\n",
       "\n",
       "    .dataframe thead th {\n",
       "        text-align: right;\n",
       "    }\n",
       "</style>\n",
       "<table border=\"1\" class=\"dataframe\">\n",
       "  <thead>\n",
       "    <tr style=\"text-align: right;\">\n",
       "      <th></th>\n",
       "      <th>Driver</th>\n",
       "      <th>Points</th>\n",
       "      <th>Age</th>\n",
       "    </tr>\n",
       "  </thead>\n",
       "  <tbody>\n",
       "    <tr>\n",
       "      <th>0</th>\n",
       "      <td>Hamilton</td>\n",
       "      <td>408</td>\n",
       "      <td>33</td>\n",
       "    </tr>\n",
       "    <tr>\n",
       "      <th>1</th>\n",
       "      <td>Vettel</td>\n",
       "      <td>320</td>\n",
       "      <td>31</td>\n",
       "    </tr>\n",
       "    <tr>\n",
       "      <th>2</th>\n",
       "      <td>Raikkonen</td>\n",
       "      <td>251</td>\n",
       "      <td>39</td>\n",
       "    </tr>\n",
       "    <tr>\n",
       "      <th>3</th>\n",
       "      <td>Verstappen</td>\n",
       "      <td>249</td>\n",
       "      <td>21</td>\n",
       "    </tr>\n",
       "    <tr>\n",
       "      <th>4</th>\n",
       "      <td>Bottas</td>\n",
       "      <td>247</td>\n",
       "      <td>29</td>\n",
       "    </tr>\n",
       "    <tr>\n",
       "      <th>5</th>\n",
       "      <td>Ricciardo</td>\n",
       "      <td>170</td>\n",
       "      <td>29</td>\n",
       "    </tr>\n",
       "    <tr>\n",
       "      <th>6</th>\n",
       "      <td>Hulkenberg</td>\n",
       "      <td>69</td>\n",
       "      <td>31</td>\n",
       "    </tr>\n",
       "    <tr>\n",
       "      <th>7</th>\n",
       "      <td>Perez</td>\n",
       "      <td>62</td>\n",
       "      <td>28</td>\n",
       "    </tr>\n",
       "    <tr>\n",
       "      <th>8</th>\n",
       "      <td>Magnussen</td>\n",
       "      <td>56</td>\n",
       "      <td>26</td>\n",
       "    </tr>\n",
       "    <tr>\n",
       "      <th>9</th>\n",
       "      <td>Sainz</td>\n",
       "      <td>53</td>\n",
       "      <td>24</td>\n",
       "    </tr>\n",
       "  </tbody>\n",
       "</table>\n",
       "</div>"
      ],
      "text/plain": [
       "       Driver  Points  Age\n",
       "0    Hamilton     408   33\n",
       "1      Vettel     320   31\n",
       "2   Raikkonen     251   39\n",
       "3  Verstappen     249   21\n",
       "4      Bottas     247   29\n",
       "5   Ricciardo     170   29\n",
       "6  Hulkenberg      69   31\n",
       "7       Perez      62   28\n",
       "8   Magnussen      56   26\n",
       "9       Sainz      53   24"
      ]
     },
     "execution_count": 2,
     "metadata": {},
     "output_type": "execute_result"
    }
   ],
   "source": [
    "import pandas as pd\n",
    "import numpy as np\n",
    " \n",
    "# data of 2018 drivers world championship\n",
    "dict1 = {'Driver': ['Hamilton', 'Vettel', 'Raikkonen',\n",
    "                    'Verstappen', 'Bottas', 'Ricciardo',\n",
    "                    'Hulkenberg', 'Perez', 'Magnussen',\n",
    "                    'Sainz', 'Alonso', 'Ocon', 'Leclerc',\n",
    "                    'Grosjean', 'Gasly', 'Vandoorne',\n",
    "                    'Ericsson', 'Stroll', 'Hartley', 'Sirotkin'],\n",
    " \n",
    "         'Points': [408, 320, 251, 249, 247, 170, 69, 62, 56,\n",
    "                    53, 50, 49, 39, 37, 29, 12, 9, 6, 4, 1],\n",
    " \n",
    "         'Age': [33, 31, 39, 21, 29, 29, 31, 28, 26, 24, 37,\n",
    "                 22, 21, 32, 22, 26, 28, 20, 29, 23]}\n",
    " \n",
    "# creating dataframe using DataFrame constructor\n",
    "df = pd.DataFrame(dict1)\n",
    "df.head(10)"
   ]
  },
  {
   "cell_type": "markdown",
   "id": "ea257b0a-36a2-4ec8-be62-e2f21195958f",
   "metadata": {},
   "source": [
    "### Select row with maximum value in Pandas Dataframe"
   ]
  },
  {
   "cell_type": "markdown",
   "id": "124bb967-2858-4ec6-8192-871382b31703",
   "metadata": {},
   "source": [
    "#### Shows max on Driver, Points, and Age columns. "
   ]
  },
  {
   "cell_type": "code",
   "execution_count": 3,
   "id": "bacdb671-154b-4e5e-a335-3200e2682f09",
   "metadata": {},
   "outputs": [
    {
     "data": {
      "text/plain": [
       "Driver    Vettel\n",
       "Points       408\n",
       "Age           39\n",
       "dtype: object"
      ]
     },
     "execution_count": 3,
     "metadata": {},
     "output_type": "execute_result"
    }
   ],
   "source": [
    "df.max()"
   ]
  },
  {
   "cell_type": "markdown",
   "id": "73b86d4d-247d-4c5a-8313-ecac6e33c192",
   "metadata": {},
   "source": [
    "#### Who scored max points "
   ]
  },
  {
   "cell_type": "code",
   "execution_count": 7,
   "id": "610712a4-699d-4510-8bd9-50c660b991d5",
   "metadata": {},
   "outputs": [
    {
     "data": {
      "text/html": [
       "<div>\n",
       "<style scoped>\n",
       "    .dataframe tbody tr th:only-of-type {\n",
       "        vertical-align: middle;\n",
       "    }\n",
       "\n",
       "    .dataframe tbody tr th {\n",
       "        vertical-align: top;\n",
       "    }\n",
       "\n",
       "    .dataframe thead th {\n",
       "        text-align: right;\n",
       "    }\n",
       "</style>\n",
       "<table border=\"1\" class=\"dataframe\">\n",
       "  <thead>\n",
       "    <tr style=\"text-align: right;\">\n",
       "      <th></th>\n",
       "      <th>Driver</th>\n",
       "      <th>Points</th>\n",
       "      <th>Age</th>\n",
       "    </tr>\n",
       "  </thead>\n",
       "  <tbody>\n",
       "    <tr>\n",
       "      <th>0</th>\n",
       "      <td>Hamilton</td>\n",
       "      <td>408</td>\n",
       "      <td>33</td>\n",
       "    </tr>\n",
       "  </tbody>\n",
       "</table>\n",
       "</div>"
      ],
      "text/plain": [
       "     Driver  Points  Age\n",
       "0  Hamilton     408   33"
      ]
     },
     "execution_count": 7,
     "metadata": {},
     "output_type": "execute_result"
    }
   ],
   "source": [
    "df[df.Points==df.Points.max()]"
   ]
  },
  {
   "cell_type": "markdown",
   "id": "21cd2f60-f3d8-405b-9de4-2798a56ed3e8",
   "metadata": {},
   "source": [
    "#### WHO has the maximum age"
   ]
  },
  {
   "cell_type": "code",
   "execution_count": 8,
   "id": "90c31d71-09bd-4bec-a0e0-9d561fbc1324",
   "metadata": {},
   "outputs": [
    {
     "data": {
      "text/html": [
       "<div>\n",
       "<style scoped>\n",
       "    .dataframe tbody tr th:only-of-type {\n",
       "        vertical-align: middle;\n",
       "    }\n",
       "\n",
       "    .dataframe tbody tr th {\n",
       "        vertical-align: top;\n",
       "    }\n",
       "\n",
       "    .dataframe thead th {\n",
       "        text-align: right;\n",
       "    }\n",
       "</style>\n",
       "<table border=\"1\" class=\"dataframe\">\n",
       "  <thead>\n",
       "    <tr style=\"text-align: right;\">\n",
       "      <th></th>\n",
       "      <th>Driver</th>\n",
       "      <th>Points</th>\n",
       "      <th>Age</th>\n",
       "    </tr>\n",
       "  </thead>\n",
       "  <tbody>\n",
       "    <tr>\n",
       "      <th>2</th>\n",
       "      <td>Raikkonen</td>\n",
       "      <td>251</td>\n",
       "      <td>39</td>\n",
       "    </tr>\n",
       "  </tbody>\n",
       "</table>\n",
       "</div>"
      ],
      "text/plain": [
       "      Driver  Points  Age\n",
       "2  Raikkonen     251   39"
      ]
     },
     "execution_count": 8,
     "metadata": {},
     "output_type": "execute_result"
    }
   ],
   "source": [
    "df[df.Age==df.Age.max()]"
   ]
  },
  {
   "cell_type": "markdown",
   "id": "f70e9934-f8aa-47ff-ac2f-5d8af1b6ab84",
   "metadata": {},
   "source": [
    "#### What is the maximum age"
   ]
  },
  {
   "cell_type": "code",
   "execution_count": 9,
   "id": "ff6ff57f-40c3-49ac-ba48-3ae8ec2d108a",
   "metadata": {},
   "outputs": [
    {
     "data": {
      "text/plain": [
       "39"
      ]
     },
     "execution_count": 9,
     "metadata": {},
     "output_type": "execute_result"
    }
   ],
   "source": [
    "df.Age.max()"
   ]
  },
  {
   "cell_type": "markdown",
   "id": "103665d1-0000-4851-9245-cdc8ec4267c5",
   "metadata": {},
   "source": [
    "#### Which row has maximum age in the Dataframe | who is the oldest driver? "
   ]
  },
  {
   "cell_type": "code",
   "execution_count": 10,
   "id": "0e88d643-b598-4f9c-9dab-4e137e136c5d",
   "metadata": {},
   "outputs": [
    {
     "data": {
      "text/html": [
       "<div>\n",
       "<style scoped>\n",
       "    .dataframe tbody tr th:only-of-type {\n",
       "        vertical-align: middle;\n",
       "    }\n",
       "\n",
       "    .dataframe tbody tr th {\n",
       "        vertical-align: top;\n",
       "    }\n",
       "\n",
       "    .dataframe thead th {\n",
       "        text-align: right;\n",
       "    }\n",
       "</style>\n",
       "<table border=\"1\" class=\"dataframe\">\n",
       "  <thead>\n",
       "    <tr style=\"text-align: right;\">\n",
       "      <th></th>\n",
       "      <th>Driver</th>\n",
       "      <th>Points</th>\n",
       "      <th>Age</th>\n",
       "    </tr>\n",
       "  </thead>\n",
       "  <tbody>\n",
       "    <tr>\n",
       "      <th>2</th>\n",
       "      <td>Raikkonen</td>\n",
       "      <td>251</td>\n",
       "      <td>39</td>\n",
       "    </tr>\n",
       "  </tbody>\n",
       "</table>\n",
       "</div>"
      ],
      "text/plain": [
       "      Driver  Points  Age\n",
       "2  Raikkonen     251   39"
      ]
     },
     "execution_count": 10,
     "metadata": {},
     "output_type": "execute_result"
    }
   ],
   "source": [
    "df[df.Age==df.Age.max()]"
   ]
  },
  {
   "cell_type": "markdown",
   "id": "616b589b-2e3b-49c4-a1f1-7c826d128ba3",
   "metadata": {},
   "source": [
    "### Select row with minimum value in Pandas Dataframe"
   ]
  },
  {
   "cell_type": "markdown",
   "id": "ccfea6a3-85aa-4e31-83c2-898f7f0dd3ce",
   "metadata": {},
   "source": [
    "#### Shows min on Driver, Points, Age columns. "
   ]
  },
  {
   "cell_type": "code",
   "execution_count": 11,
   "id": "cfa85ad7-d778-48be-9aec-a1ef9d9846db",
   "metadata": {},
   "outputs": [
    {
     "data": {
      "text/plain": [
       "Driver    Alonso\n",
       "Points         1\n",
       "Age           20\n",
       "dtype: object"
      ]
     },
     "execution_count": 11,
     "metadata": {},
     "output_type": "execute_result"
    }
   ],
   "source": [
    "df.min()"
   ]
  },
  {
   "cell_type": "markdown",
   "id": "f7de9503-9917-443b-bbd2-18bb1d7c4c35",
   "metadata": {},
   "source": [
    "#### Who scored fewer points "
   ]
  },
  {
   "cell_type": "code",
   "execution_count": 12,
   "id": "81614ffa-d156-47a6-b8d7-bdcb35d6f1ee",
   "metadata": {},
   "outputs": [
    {
     "data": {
      "text/html": [
       "<div>\n",
       "<style scoped>\n",
       "    .dataframe tbody tr th:only-of-type {\n",
       "        vertical-align: middle;\n",
       "    }\n",
       "\n",
       "    .dataframe tbody tr th {\n",
       "        vertical-align: top;\n",
       "    }\n",
       "\n",
       "    .dataframe thead th {\n",
       "        text-align: right;\n",
       "    }\n",
       "</style>\n",
       "<table border=\"1\" class=\"dataframe\">\n",
       "  <thead>\n",
       "    <tr style=\"text-align: right;\">\n",
       "      <th></th>\n",
       "      <th>Driver</th>\n",
       "      <th>Points</th>\n",
       "      <th>Age</th>\n",
       "    </tr>\n",
       "  </thead>\n",
       "  <tbody>\n",
       "    <tr>\n",
       "      <th>19</th>\n",
       "      <td>Sirotkin</td>\n",
       "      <td>1</td>\n",
       "      <td>23</td>\n",
       "    </tr>\n",
       "  </tbody>\n",
       "</table>\n",
       "</div>"
      ],
      "text/plain": [
       "      Driver  Points  Age\n",
       "19  Sirotkin       1   23"
      ]
     },
     "execution_count": 12,
     "metadata": {},
     "output_type": "execute_result"
    }
   ],
   "source": [
    "df[df.Points==df.Points.min()]"
   ]
  },
  {
   "cell_type": "markdown",
   "id": "86114af4-6e01-4a41-b6c0-bcf29bd4b3ce",
   "metadata": {},
   "source": [
    "#### Which row has minimum age in the Dataframe who is the youngest driver "
   ]
  },
  {
   "cell_type": "code",
   "execution_count": 13,
   "id": "8b593281-42ed-467e-be5b-ffe205a2b095",
   "metadata": {},
   "outputs": [
    {
     "data": {
      "text/html": [
       "<div>\n",
       "<style scoped>\n",
       "    .dataframe tbody tr th:only-of-type {\n",
       "        vertical-align: middle;\n",
       "    }\n",
       "\n",
       "    .dataframe tbody tr th {\n",
       "        vertical-align: top;\n",
       "    }\n",
       "\n",
       "    .dataframe thead th {\n",
       "        text-align: right;\n",
       "    }\n",
       "</style>\n",
       "<table border=\"1\" class=\"dataframe\">\n",
       "  <thead>\n",
       "    <tr style=\"text-align: right;\">\n",
       "      <th></th>\n",
       "      <th>Driver</th>\n",
       "      <th>Points</th>\n",
       "      <th>Age</th>\n",
       "    </tr>\n",
       "  </thead>\n",
       "  <tbody>\n",
       "    <tr>\n",
       "      <th>17</th>\n",
       "      <td>Stroll</td>\n",
       "      <td>6</td>\n",
       "      <td>20</td>\n",
       "    </tr>\n",
       "  </tbody>\n",
       "</table>\n",
       "</div>"
      ],
      "text/plain": [
       "    Driver  Points  Age\n",
       "17  Stroll       6   20"
      ]
     },
     "execution_count": 13,
     "metadata": {},
     "output_type": "execute_result"
    }
   ],
   "source": [
    "df[df.Age==df.Age.min()]"
   ]
  },
  {
   "cell_type": "code",
   "execution_count": null,
   "id": "2a2cf639-27a2-41e1-8248-99b891755b95",
   "metadata": {},
   "outputs": [],
   "source": []
  }
 ],
 "metadata": {
  "kernelspec": {
   "display_name": "Python 3 (ipykernel)",
   "language": "python",
   "name": "python3"
  },
  "language_info": {
   "codemirror_mode": {
    "name": "ipython",
    "version": 3
   },
   "file_extension": ".py",
   "mimetype": "text/x-python",
   "name": "python",
   "nbconvert_exporter": "python",
   "pygments_lexer": "ipython3",
   "version": "3.12.1"
  }
 },
 "nbformat": 4,
 "nbformat_minor": 5
}
