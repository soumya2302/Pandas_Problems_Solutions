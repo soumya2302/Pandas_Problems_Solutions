{
 "cells": [
  {
   "cell_type": "code",
   "execution_count": 2,
   "id": "c5891748-5ade-4121-bdd8-04c8356441d8",
   "metadata": {},
   "outputs": [],
   "source": [
    "import pandas as pd"
   ]
  },
  {
   "cell_type": "markdown",
   "id": "c581724e-6a26-4fae-815a-1e539e72ae0c",
   "metadata": {},
   "source": [
    "### ways to do get the rows as a list from given dataframe."
   ]
  },
  {
   "cell_type": "code",
   "execution_count": 49,
   "id": "3f11b237-c8d4-4448-9862-a2ae7557ec45",
   "metadata": {},
   "outputs": [
    {
     "data": {
      "text/html": [
       "<div>\n",
       "<style scoped>\n",
       "    .dataframe tbody tr th:only-of-type {\n",
       "        vertical-align: middle;\n",
       "    }\n",
       "\n",
       "    .dataframe tbody tr th {\n",
       "        vertical-align: top;\n",
       "    }\n",
       "\n",
       "    .dataframe thead th {\n",
       "        text-align: right;\n",
       "    }\n",
       "</style>\n",
       "<table border=\"1\" class=\"dataframe\">\n",
       "  <thead>\n",
       "    <tr style=\"text-align: right;\">\n",
       "      <th></th>\n",
       "      <th>Date</th>\n",
       "      <th>Event</th>\n",
       "      <th>Cost</th>\n",
       "    </tr>\n",
       "  </thead>\n",
       "  <tbody>\n",
       "    <tr>\n",
       "      <th>0</th>\n",
       "      <td>10/2/2011</td>\n",
       "      <td>Music</td>\n",
       "      <td>10000</td>\n",
       "    </tr>\n",
       "    <tr>\n",
       "      <th>1</th>\n",
       "      <td>11/2/2011</td>\n",
       "      <td>Poetry</td>\n",
       "      <td>5000</td>\n",
       "    </tr>\n",
       "    <tr>\n",
       "      <th>2</th>\n",
       "      <td>12/2/2011</td>\n",
       "      <td>Theatre</td>\n",
       "      <td>15000</td>\n",
       "    </tr>\n",
       "    <tr>\n",
       "      <th>3</th>\n",
       "      <td>13/2/2011</td>\n",
       "      <td>Comedy</td>\n",
       "      <td>2000</td>\n",
       "    </tr>\n",
       "  </tbody>\n",
       "</table>\n",
       "</div>"
      ],
      "text/plain": [
       "        Date    Event   Cost\n",
       "0  10/2/2011    Music  10000\n",
       "1  11/2/2011   Poetry   5000\n",
       "2  12/2/2011  Theatre  15000\n",
       "3  13/2/2011   Comedy   2000"
      ]
     },
     "execution_count": 49,
     "metadata": {},
     "output_type": "execute_result"
    }
   ],
   "source": [
    "df = pd.DataFrame({'Date':['10/2/2011', '11/2/2011', '12/2/2011', '13/2/2011'], \n",
    "                    'Event':['Music', 'Poetry', 'Theatre', 'Comedy'], \n",
    "                    'Cost':[10000, 5000, 15000, 2000]}) \n",
    "df"
   ]
  },
  {
   "cell_type": "markdown",
   "id": "a8325289-ca56-49d6-89c5-d93942eff828",
   "metadata": {},
   "source": [
    "### way 1 -->basic method"
   ]
  },
  {
   "cell_type": "code",
   "execution_count": 54,
   "id": "b88ab83f-660a-4988-96b1-ce2d82c6512a",
   "metadata": {},
   "outputs": [
    {
     "data": {
      "text/plain": [
       "[['10/2/2011', 'Music', 10000],\n",
       " ['11/2/2011', 'Poetry', 5000],\n",
       " ['12/2/2011', 'Theatre', 15000],\n",
       " ['13/2/2011', 'Comedy', 2000]]"
      ]
     },
     "execution_count": 54,
     "metadata": {},
     "output_type": "execute_result"
    }
   ],
   "source": [
    "li=[]\n",
    "for i in range(len(df)):\n",
    "    li.append([df.loc[i,'Date'],df.loc[i,'Event'],df.loc[i,'Cost']])  \n",
    "li"
   ]
  },
  {
   "cell_type": "code",
   "execution_count": null,
   "id": "4080d4fe-b306-4dd8-9383-6624dcbfb760",
   "metadata": {},
   "outputs": [],
   "source": []
  },
  {
   "cell_type": "code",
   "execution_count": null,
   "id": "af513a24-f0bd-49ea-ba08-1b4bb65ad480",
   "metadata": {},
   "outputs": [],
   "source": [
    "[df.loc[0, :]]====>[df.loc[i,'Date'],df.loc[i,'Event'],df.loc[i,'Cost'] #both are equivalent"
   ]
  },
  {
   "cell_type": "code",
   "execution_count": 70,
   "id": "c171970f-55d1-4a54-8d00-bb718623f48b",
   "metadata": {},
   "outputs": [
    {
     "data": {
      "text/plain": [
       "[[Date     10/2/2011\n",
       "  Event        Music\n",
       "  Cost         10000\n",
       "  Name: 0, dtype: object],\n",
       " [Date     11/2/2011\n",
       "  Event       Poetry\n",
       "  Cost          5000\n",
       "  Name: 1, dtype: object],\n",
       " [Date     12/2/2011\n",
       "  Event      Theatre\n",
       "  Cost         15000\n",
       "  Name: 2, dtype: object],\n",
       " [Date     13/2/2011\n",
       "  Event       Comedy\n",
       "  Cost          2000\n",
       "  Name: 3, dtype: object]]"
      ]
     },
     "execution_count": 70,
     "metadata": {},
     "output_type": "execute_result"
    }
   ],
   "source": [
    "li1=[]\n",
    "for i in range(len(df)):\n",
    "    li1.append(list([df.loc[i, :]]))\n",
    "li1    "
   ]
  },
  {
   "cell_type": "code",
   "execution_count": 31,
   "id": "82cee923-fe3e-4160-8300-a91be30ac238",
   "metadata": {},
   "outputs": [
    {
     "data": {
      "text/html": [
       "<div>\n",
       "<style scoped>\n",
       "    .dataframe tbody tr th:only-of-type {\n",
       "        vertical-align: middle;\n",
       "    }\n",
       "\n",
       "    .dataframe tbody tr th {\n",
       "        vertical-align: top;\n",
       "    }\n",
       "\n",
       "    .dataframe thead th {\n",
       "        text-align: right;\n",
       "    }\n",
       "</style>\n",
       "<table border=\"1\" class=\"dataframe\">\n",
       "  <thead>\n",
       "    <tr style=\"text-align: right;\">\n",
       "      <th></th>\n",
       "      <th>Date</th>\n",
       "      <th>Event</th>\n",
       "      <th>Cost</th>\n",
       "    </tr>\n",
       "  </thead>\n",
       "  <tbody>\n",
       "    <tr>\n",
       "      <th>0</th>\n",
       "      <td>10/2/2011</td>\n",
       "      <td>Music</td>\n",
       "      <td>10000</td>\n",
       "    </tr>\n",
       "    <tr>\n",
       "      <th>1</th>\n",
       "      <td>11/2/2011</td>\n",
       "      <td>Poetry</td>\n",
       "      <td>5000</td>\n",
       "    </tr>\n",
       "    <tr>\n",
       "      <th>2</th>\n",
       "      <td>12/2/2011</td>\n",
       "      <td>Theatre</td>\n",
       "      <td>15000</td>\n",
       "    </tr>\n",
       "    <tr>\n",
       "      <th>3</th>\n",
       "      <td>13/2/2011</td>\n",
       "      <td>Comedy</td>\n",
       "      <td>2000</td>\n",
       "    </tr>\n",
       "  </tbody>\n",
       "</table>\n",
       "</div>"
      ],
      "text/plain": [
       "        Date    Event   Cost\n",
       "0  10/2/2011    Music  10000\n",
       "1  11/2/2011   Poetry   5000\n",
       "2  12/2/2011  Theatre  15000\n",
       "3  13/2/2011   Comedy   2000"
      ]
     },
     "execution_count": 31,
     "metadata": {},
     "output_type": "execute_result"
    }
   ],
   "source": [
    "df"
   ]
  },
  {
   "cell_type": "code",
   "execution_count": null,
   "id": "4b9d90ff-02c8-4897-8c6d-1151886876ef",
   "metadata": {},
   "outputs": [],
   "source": [
    "loc[]/at[]\n",
    "iloc[]/iat[]"
   ]
  },
  {
   "cell_type": "code",
   "execution_count": 30,
   "id": "cec40fcc-3b9b-49c1-bff9-e266a662cdde",
   "metadata": {},
   "outputs": [
    {
     "data": {
      "text/plain": [
       "'Music'"
      ]
     },
     "execution_count": 30,
     "metadata": {},
     "output_type": "execute_result"
    }
   ],
   "source": [
    "df.loc[0,'Event'] #df.at[0,'Event'] #df.loc[0].at['Event']"
   ]
  },
  {
   "cell_type": "code",
   "execution_count": 32,
   "id": "dfe1248f-5ca9-417f-8907-35b472d781e6",
   "metadata": {},
   "outputs": [
    {
     "data": {
      "text/plain": [
       "'Music'"
      ]
     },
     "execution_count": 32,
     "metadata": {},
     "output_type": "execute_result"
    }
   ],
   "source": [
    "df.at[0,'Event']"
   ]
  },
  {
   "cell_type": "code",
   "execution_count": 34,
   "id": "04a55f6f-16cf-46b4-82ee-890c15374d9c",
   "metadata": {},
   "outputs": [
    {
     "data": {
      "text/plain": [
       "'Music'"
      ]
     },
     "execution_count": 34,
     "metadata": {},
     "output_type": "execute_result"
    }
   ],
   "source": [
    "df.loc[0].at['Event']"
   ]
  },
  {
   "cell_type": "code",
   "execution_count": null,
   "id": "712b3c36-9b56-46ec-a1fb-b465404cf494",
   "metadata": {},
   "outputs": [],
   "source": []
  },
  {
   "cell_type": "code",
   "execution_count": 39,
   "id": "b6ac6986-f8d7-42dc-bb3f-d9cb2f1556ab",
   "metadata": {},
   "outputs": [
    {
     "data": {
      "text/plain": [
       "5000"
      ]
     },
     "execution_count": 39,
     "metadata": {},
     "output_type": "execute_result"
    }
   ],
   "source": [
    "df.iloc[1,2] #df.iat[1,2] #df.iloc[1].iat[2]"
   ]
  },
  {
   "cell_type": "code",
   "execution_count": 40,
   "id": "83af84b5-e227-4f02-9510-bcbaa484d4f4",
   "metadata": {},
   "outputs": [
    {
     "data": {
      "text/plain": [
       "5000"
      ]
     },
     "execution_count": 40,
     "metadata": {},
     "output_type": "execute_result"
    }
   ],
   "source": [
    "df.iat[1,2]"
   ]
  },
  {
   "cell_type": "code",
   "execution_count": 41,
   "id": "56066520-f7a0-4743-ba43-733cbf283a72",
   "metadata": {},
   "outputs": [
    {
     "data": {
      "text/plain": [
       "5000"
      ]
     },
     "execution_count": 41,
     "metadata": {},
     "output_type": "execute_result"
    }
   ],
   "source": [
    "df.iloc[1].iat[2]"
   ]
  },
  {
   "cell_type": "markdown",
   "id": "3583f5d9-14ae-424d-a5e2-ebf8dc77ef9c",
   "metadata": {},
   "source": [
    "### way2==> using iloc[]"
   ]
  },
  {
   "cell_type": "code",
   "execution_count": 59,
   "id": "22c8bc78-2275-4273-b3a7-2aeb1100329e",
   "metadata": {},
   "outputs": [
    {
     "data": {
      "text/plain": [
       "0    10/2/2011\n",
       "1    11/2/2011\n",
       "2    12/2/2011\n",
       "3    13/2/2011\n",
       "Name: Date, dtype: object"
      ]
     },
     "execution_count": 59,
     "metadata": {},
     "output_type": "execute_result"
    }
   ],
   "source": [
    "df.iloc[:,0]"
   ]
  },
  {
   "cell_type": "code",
   "execution_count": 68,
   "id": "8636f84e-4783-4267-9951-1a73843d270d",
   "metadata": {},
   "outputs": [
    {
     "name": "stdout",
     "output_type": "stream",
     "text": [
      "[['10/2/2011', 'Music', 10000], ['11/2/2011', 'Poetry', 5000], ['12/2/2011', 'Theatre', 15000], ['13/2/2011', 'Comedy', 2000]]\n"
     ]
    }
   ],
   "source": [
    "li=[]\n",
    "for i in range(len(df)):\n",
    "    li.append( list(df.iloc[i,:]))\n",
    "print(li)    "
   ]
  },
  {
   "cell_type": "markdown",
   "id": "8ee04445-1137-414f-9ff9-7e33c3fde617",
   "metadata": {},
   "source": [
    "### Using iat[] method"
   ]
  },
  {
   "cell_type": "code",
   "execution_count": 62,
   "id": "832574c1-d133-40af-9a10-f1364555208f",
   "metadata": {},
   "outputs": [
    {
     "ename": "ValueError",
     "evalue": "iAt based indexing can only have integer indexers",
     "output_type": "error",
     "traceback": [
      "\u001b[1;31m---------------------------------------------------------------------------\u001b[0m",
      "\u001b[1;31mValueError\u001b[0m                                Traceback (most recent call last)",
      "Cell \u001b[1;32mIn[62], line 3\u001b[0m\n\u001b[0;32m      1\u001b[0m li\u001b[38;5;241m=\u001b[39m[]\n\u001b[0;32m      2\u001b[0m \u001b[38;5;28;01mfor\u001b[39;00m i \u001b[38;5;129;01min\u001b[39;00m \u001b[38;5;28mrange\u001b[39m(\u001b[38;5;28mlen\u001b[39m(df)):\n\u001b[1;32m----> 3\u001b[0m     li\u001b[38;5;241m.\u001b[39mappend(\u001b[43mdf\u001b[49m\u001b[38;5;241;43m.\u001b[39;49m\u001b[43miat\u001b[49m\u001b[43m[\u001b[49m\u001b[43mi\u001b[49m\u001b[43m,\u001b[49m\u001b[43m:\u001b[49m\u001b[43m]\u001b[49m)\n\u001b[0;32m      4\u001b[0m li    \n",
      "File \u001b[1;32m~\\AppData\\Local\\Programs\\Python\\Python312\\Lib\\site-packages\\pandas\\core\\indexing.py:2519\u001b[0m, in \u001b[0;36m_ScalarAccessIndexer.__getitem__\u001b[1;34m(self, key)\u001b[0m\n\u001b[0;32m   2516\u001b[0m     \u001b[38;5;28;01melse\u001b[39;00m:\n\u001b[0;32m   2517\u001b[0m         \u001b[38;5;28;01mraise\u001b[39;00m \u001b[38;5;167;01mValueError\u001b[39;00m(\u001b[38;5;124m\"\u001b[39m\u001b[38;5;124mInvalid call for scalar access (getting)!\u001b[39m\u001b[38;5;124m\"\u001b[39m)\n\u001b[1;32m-> 2519\u001b[0m key \u001b[38;5;241m=\u001b[39m \u001b[38;5;28;43mself\u001b[39;49m\u001b[38;5;241;43m.\u001b[39;49m\u001b[43m_convert_key\u001b[49m\u001b[43m(\u001b[49m\u001b[43mkey\u001b[49m\u001b[43m)\u001b[49m\n\u001b[0;32m   2520\u001b[0m \u001b[38;5;28;01mreturn\u001b[39;00m \u001b[38;5;28mself\u001b[39m\u001b[38;5;241m.\u001b[39mobj\u001b[38;5;241m.\u001b[39m_get_value(\u001b[38;5;241m*\u001b[39mkey, takeable\u001b[38;5;241m=\u001b[39m\u001b[38;5;28mself\u001b[39m\u001b[38;5;241m.\u001b[39m_takeable)\n",
      "File \u001b[1;32m~\\AppData\\Local\\Programs\\Python\\Python312\\Lib\\site-packages\\pandas\\core\\indexing.py:2592\u001b[0m, in \u001b[0;36m_iAtIndexer._convert_key\u001b[1;34m(self, key)\u001b[0m\n\u001b[0;32m   2590\u001b[0m \u001b[38;5;28;01mfor\u001b[39;00m i \u001b[38;5;129;01min\u001b[39;00m key:\n\u001b[0;32m   2591\u001b[0m     \u001b[38;5;28;01mif\u001b[39;00m \u001b[38;5;129;01mnot\u001b[39;00m is_integer(i):\n\u001b[1;32m-> 2592\u001b[0m         \u001b[38;5;28;01mraise\u001b[39;00m \u001b[38;5;167;01mValueError\u001b[39;00m(\u001b[38;5;124m\"\u001b[39m\u001b[38;5;124miAt based indexing can only have integer indexers\u001b[39m\u001b[38;5;124m\"\u001b[39m)\n\u001b[0;32m   2593\u001b[0m \u001b[38;5;28;01mreturn\u001b[39;00m key\n",
      "\u001b[1;31mValueError\u001b[0m: iAt based indexing can only have integer indexers"
     ]
    }
   ],
   "source": [
    "li=[]\n",
    "for i in range(len(df)):\n",
    "    li.append(df.iat[i,:])\n",
    "li    "
   ]
  },
  {
   "cell_type": "code",
   "execution_count": 66,
   "id": "6e1cddce-b989-4c42-b563-b1966567d108",
   "metadata": {},
   "outputs": [
    {
     "data": {
      "text/plain": [
       "[['10/2/2011', 'Music', 10000],\n",
       " ['11/2/2011', 'Poetry', 5000],\n",
       " ['12/2/2011', 'Theatre', 15000],\n",
       " ['13/2/2011', 'Comedy', 2000]]"
      ]
     },
     "execution_count": 66,
     "metadata": {},
     "output_type": "execute_result"
    }
   ],
   "source": [
    "li=[]\n",
    "for i in range(df.shape[0]):\n",
    "    li1=[]\n",
    "    for j in range(df.shape[1]):\n",
    "        li1.append(df.iat[i,j])\n",
    "    li.append(li1)    \n",
    "li               "
   ]
  },
  {
   "cell_type": "code",
   "execution_count": 67,
   "id": "42ba0813-10dc-4a15-be76-a3368a8b5a79",
   "metadata": {},
   "outputs": [
    {
     "data": {
      "text/plain": [
       "[['10/2/2011', 'Music', 10000],\n",
       " ['11/2/2011', 'Poetry', 5000],\n",
       " ['12/2/2011', 'Theatre', 15000],\n",
       " ['13/2/2011', 'Comedy', 2000]]"
      ]
     },
     "execution_count": 67,
     "metadata": {},
     "output_type": "execute_result"
    }
   ],
   "source": [
    "li=[]\n",
    "for i in range(df.shape[0]):\n",
    "    li1=[]\n",
    "    for j in range(df.shape[1]):\n",
    "        li1.append(df.iloc[i,j])\n",
    "    li.append(li1)    \n",
    "li"
   ]
  },
  {
   "cell_type": "code",
   "execution_count": null,
   "id": "f15304ab-2deb-40cf-b241-ce324e9c99c6",
   "metadata": {},
   "outputs": [],
   "source": []
  }
 ],
 "metadata": {
  "kernelspec": {
   "display_name": "Python 3 (ipykernel)",
   "language": "python",
   "name": "python3"
  },
  "language_info": {
   "codemirror_mode": {
    "name": "ipython",
    "version": 3
   },
   "file_extension": ".py",
   "mimetype": "text/x-python",
   "name": "python",
   "nbconvert_exporter": "python",
   "pygments_lexer": "ipython3",
   "version": "3.12.1"
  }
 },
 "nbformat": 4,
 "nbformat_minor": 5
}
