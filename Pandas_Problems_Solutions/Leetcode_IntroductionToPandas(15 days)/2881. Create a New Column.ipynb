{
 "cells": [
  {
   "cell_type": "code",
   "execution_count": null,
   "id": "afea7cba-e995-41e1-80f1-23aae62cb9a3",
   "metadata": {},
   "outputs": [],
   "source": [
    "DataFrame employees\n",
    "+-------------+--------+\n",
    "| Column Name | Type.  |\n",
    "+-------------+--------+\n",
    "| name        | object |\n",
    "| salary      | int.   |\n",
    "+-------------+--------+\n",
    "\n",
    "A company plans to provide its employees with a bonus.\n",
    "\n",
    "Write a solution to create a new column name bonus that contains the doubled values of the salary column."
   ]
  },
  {
   "cell_type": "code",
   "execution_count": null,
   "id": "8bf5ab38-5446-4c45-9b31-f27a81a3a920",
   "metadata": {},
   "outputs": [],
   "source": [
    "+---------+--------+\n",
    "| name    | salary |\n",
    "+---------+--------+\n",
    "| Piper   | 4548   |\n",
    "| Grace   | 28150  |\n",
    "| Georgia | 1103   |\n",
    "| Willow  | 6593   |\n",
    "| Finn    | 74576  |\n",
    "| Thomas  | 24433  |\n",
    "+---------+--------+"
   ]
  },
  {
   "cell_type": "code",
   "execution_count": 5,
   "id": "e9bb3d63-c638-400e-9cfd-3520b486a566",
   "metadata": {},
   "outputs": [],
   "source": [
    "import pandas as pd"
   ]
  },
  {
   "cell_type": "code",
   "execution_count": 6,
   "id": "9bac03a5-b5d3-4f9a-8f9a-f193b7c6e50f",
   "metadata": {},
   "outputs": [
    {
     "data": {
      "text/html": [
       "<div>\n",
       "<style scoped>\n",
       "    .dataframe tbody tr th:only-of-type {\n",
       "        vertical-align: middle;\n",
       "    }\n",
       "\n",
       "    .dataframe tbody tr th {\n",
       "        vertical-align: top;\n",
       "    }\n",
       "\n",
       "    .dataframe thead th {\n",
       "        text-align: right;\n",
       "    }\n",
       "</style>\n",
       "<table border=\"1\" class=\"dataframe\">\n",
       "  <thead>\n",
       "    <tr style=\"text-align: right;\">\n",
       "      <th></th>\n",
       "      <th>name</th>\n",
       "      <th>salary</th>\n",
       "    </tr>\n",
       "  </thead>\n",
       "  <tbody>\n",
       "    <tr>\n",
       "      <th>0</th>\n",
       "      <td>Piper</td>\n",
       "      <td>4548</td>\n",
       "    </tr>\n",
       "    <tr>\n",
       "      <th>1</th>\n",
       "      <td>Grace</td>\n",
       "      <td>28150</td>\n",
       "    </tr>\n",
       "    <tr>\n",
       "      <th>2</th>\n",
       "      <td>Georgia</td>\n",
       "      <td>1103</td>\n",
       "    </tr>\n",
       "    <tr>\n",
       "      <th>3</th>\n",
       "      <td>Willow</td>\n",
       "      <td>6593</td>\n",
       "    </tr>\n",
       "    <tr>\n",
       "      <th>4</th>\n",
       "      <td>Finn</td>\n",
       "      <td>74576</td>\n",
       "    </tr>\n",
       "    <tr>\n",
       "      <th>5</th>\n",
       "      <td>Thomas</td>\n",
       "      <td>24433</td>\n",
       "    </tr>\n",
       "  </tbody>\n",
       "</table>\n",
       "</div>"
      ],
      "text/plain": [
       "      name  salary\n",
       "0    Piper    4548\n",
       "1    Grace   28150\n",
       "2  Georgia    1103\n",
       "3   Willow    6593\n",
       "4     Finn   74576\n",
       "5   Thomas   24433"
      ]
     },
     "execution_count": 6,
     "metadata": {},
     "output_type": "execute_result"
    }
   ],
   "source": [
    "employees=pd.DataFrame({'name':['Piper','Grace','Georgia','Willow','Finn','Thomas'],'salary':[4548,28150,1103,6593,74576,24433]})\n",
    "employees"
   ]
  },
  {
   "cell_type": "code",
   "execution_count": 7,
   "id": "675ee8b6-b7d4-451b-81f0-7cda997f2bc8",
   "metadata": {},
   "outputs": [
    {
     "data": {
      "text/html": [
       "<div>\n",
       "<style scoped>\n",
       "    .dataframe tbody tr th:only-of-type {\n",
       "        vertical-align: middle;\n",
       "    }\n",
       "\n",
       "    .dataframe tbody tr th {\n",
       "        vertical-align: top;\n",
       "    }\n",
       "\n",
       "    .dataframe thead th {\n",
       "        text-align: right;\n",
       "    }\n",
       "</style>\n",
       "<table border=\"1\" class=\"dataframe\">\n",
       "  <thead>\n",
       "    <tr style=\"text-align: right;\">\n",
       "      <th></th>\n",
       "      <th>name</th>\n",
       "      <th>salary</th>\n",
       "      <th>bonus</th>\n",
       "    </tr>\n",
       "  </thead>\n",
       "  <tbody>\n",
       "    <tr>\n",
       "      <th>0</th>\n",
       "      <td>Piper</td>\n",
       "      <td>4548</td>\n",
       "      <td>9096</td>\n",
       "    </tr>\n",
       "    <tr>\n",
       "      <th>1</th>\n",
       "      <td>Grace</td>\n",
       "      <td>28150</td>\n",
       "      <td>56300</td>\n",
       "    </tr>\n",
       "    <tr>\n",
       "      <th>2</th>\n",
       "      <td>Georgia</td>\n",
       "      <td>1103</td>\n",
       "      <td>2206</td>\n",
       "    </tr>\n",
       "    <tr>\n",
       "      <th>3</th>\n",
       "      <td>Willow</td>\n",
       "      <td>6593</td>\n",
       "      <td>13186</td>\n",
       "    </tr>\n",
       "    <tr>\n",
       "      <th>4</th>\n",
       "      <td>Finn</td>\n",
       "      <td>74576</td>\n",
       "      <td>149152</td>\n",
       "    </tr>\n",
       "    <tr>\n",
       "      <th>5</th>\n",
       "      <td>Thomas</td>\n",
       "      <td>24433</td>\n",
       "      <td>48866</td>\n",
       "    </tr>\n",
       "  </tbody>\n",
       "</table>\n",
       "</div>"
      ],
      "text/plain": [
       "      name  salary   bonus\n",
       "0    Piper    4548    9096\n",
       "1    Grace   28150   56300\n",
       "2  Georgia    1103    2206\n",
       "3   Willow    6593   13186\n",
       "4     Finn   74576  149152\n",
       "5   Thomas   24433   48866"
      ]
     },
     "execution_count": 7,
     "metadata": {},
     "output_type": "execute_result"
    }
   ],
   "source": [
    "employees['bonus']=employees['salary']*2\n",
    "employees"
   ]
  },
  {
   "cell_type": "code",
   "execution_count": null,
   "id": "d25bdc7f-0550-48b2-ba0e-f46b298d3f1f",
   "metadata": {},
   "outputs": [],
   "source": []
  }
 ],
 "metadata": {
  "kernelspec": {
   "display_name": "Python 3 (ipykernel)",
   "language": "python",
   "name": "python3"
  },
  "language_info": {
   "codemirror_mode": {
    "name": "ipython",
    "version": 3
   },
   "file_extension": ".py",
   "mimetype": "text/x-python",
   "name": "python",
   "nbconvert_exporter": "python",
   "pygments_lexer": "ipython3",
   "version": "3.12.1"
  }
 },
 "nbformat": 4,
 "nbformat_minor": 5
}
